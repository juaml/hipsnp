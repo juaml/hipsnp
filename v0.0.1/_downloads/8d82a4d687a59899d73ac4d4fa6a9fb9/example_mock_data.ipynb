{
  "cells": [
    {
      "cell_type": "code",
      "execution_count": null,
      "metadata": {
        "collapsed": false
      },
      "outputs": [],
      "source": [
        "%matplotlib inline"
      ]
    },
    {
      "cell_type": "markdown",
      "metadata": {},
      "source": [
        "\n# Obtain risk scores and alleles\n\nThis example uses a mock dataset file with genotic information hosted in GIN.\nThe alleles are extracted from the BGEN files and a risk score is calculated\n\n.. include:: ../links.inc\n"
      ]
    },
    {
      "cell_type": "code",
      "execution_count": null,
      "metadata": {
        "collapsed": false
      },
      "outputs": [],
      "source": [
        "# # Authors: Oscar Portoles <o.portoles@fz-juelich.de>\n#            Federico Raimondo <f.raimondo@fz-juelich.de>\n#\n# License: AGPL\n\nfrom tempfile import mkdtemp\nimport shutil\nfrom hipsnp.hipsnp import genotype_from_datalad\nfrom hipsnp.utils import configure_logging"
      ]
    },
    {
      "cell_type": "markdown",
      "metadata": {},
      "source": [
        "Set the logging level to info to see extra information\n\n"
      ]
    },
    {
      "cell_type": "code",
      "execution_count": null,
      "metadata": {
        "collapsed": false
      },
      "outputs": [],
      "source": [
        "configure_logging(level='INFO')"
      ]
    },
    {
      "cell_type": "markdown",
      "metadata": {},
      "source": [
        "Get a temporary directory to work. Use another directory if you want to\nkeep the data.\n\n"
      ]
    },
    {
      "cell_type": "code",
      "execution_count": null,
      "metadata": {
        "collapsed": false
      },
      "outputs": [],
      "source": [
        "workdir = mkdtemp()"
      ]
    },
    {
      "cell_type": "markdown",
      "metadata": {},
      "source": [
        "Obtain a genotype from a datalad dataset. We can use the same directory\nas work and data directory.\n\n"
      ]
    },
    {
      "cell_type": "code",
      "execution_count": null,
      "metadata": {
        "collapsed": false
      },
      "outputs": [],
      "source": [
        "source = 'https://gin.g-node.org/juaml/datalad-example-bgen'\ngenotype = genotype_from_datalad(source, workdir=workdir, datadir=workdir)"
      ]
    },
    {
      "cell_type": "markdown",
      "metadata": {},
      "source": [
        "Now we are ready to obtain the alleles of each rsid and sample in the data\n\n"
      ]
    },
    {
      "cell_type": "code",
      "execution_count": null,
      "metadata": {
        "collapsed": false
      },
      "outputs": [],
      "source": [
        "gen_allele, gen_012 = genotype.alleles()\n\n# For example, we can count the number of times that an allele appears\ngen_allele.loc['RSID_2'].value_counts()"
      ]
    },
    {
      "cell_type": "markdown",
      "metadata": {},
      "source": [
        "To compute a poligenetic risk score we need a file or a pandas dataframe with\nthe weights associated to each allele and RSID. We can retrieve one from\nhttps://www.pgscatalog.org/.\n\n"
      ]
    },
    {
      "cell_type": "code",
      "execution_count": null,
      "metadata": {
        "collapsed": false
      },
      "outputs": [],
      "source": [
        "# In this case we use a weights file generated for this mock datasets.\npath_to_weights = './data/weights_all.csv'\n\n# Now we can obtain the risk score for each rsids given the samples on the\n# dataset and the dosage (amount of the effect allele) of each rsids and sample\ndosage, risk = genotype.riskscore(weights=path_to_weights)\n\n# Then, for example, we can visualize the risk score of each sample\nrisk.plot()"
      ]
    },
    {
      "cell_type": "markdown",
      "metadata": {},
      "source": [
        "Since we used a temporary directory, we need to delete it\n\n"
      ]
    },
    {
      "cell_type": "code",
      "execution_count": null,
      "metadata": {
        "collapsed": false
      },
      "outputs": [],
      "source": [
        "shutil.rmtree(workdir)"
      ]
    }
  ],
  "metadata": {
    "kernelspec": {
      "display_name": "Python 3",
      "language": "python",
      "name": "python3"
    },
    "language_info": {
      "codemirror_mode": {
        "name": "ipython",
        "version": 3
      },
      "file_extension": ".py",
      "mimetype": "text/x-python",
      "name": "python",
      "nbconvert_exporter": "python",
      "pygments_lexer": "ipython3",
      "version": "3.8.12"
    }
  },
  "nbformat": 4,
  "nbformat_minor": 0
}