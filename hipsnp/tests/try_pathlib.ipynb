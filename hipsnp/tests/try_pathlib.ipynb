{
 "cells": [
  {
   "cell_type": "code",
   "execution_count": 10,
   "source": [
    "import os\n",
    "from pathlib import Path, PosixPath\n",
    "import glob"
   ],
   "outputs": [],
   "metadata": {}
  },
  {
   "cell_type": "code",
   "execution_count": 21,
   "source": [
    "path = '/home/oportoles/Documents/MyCode/hipsnp/'"
   ],
   "outputs": [],
   "metadata": {}
  },
  {
   "cell_type": "code",
   "execution_count": 3,
   "source": [
    "pos = os.path.join('/tmp', 'genetic')\n",
    "pp = Path('/tmp/genetic')"
   ],
   "outputs": [],
   "metadata": {}
  },
  {
   "cell_type": "code",
   "execution_count": 8,
   "source": [
    "print(pp)\n",
    "print(pos)"
   ],
   "outputs": [
    {
     "output_type": "stream",
     "name": "stdout",
     "text": [
      "/tmp/genetic\n",
      "/tmp/genetic\n"
     ]
    }
   ],
   "metadata": {}
  },
  {
   "cell_type": "code",
   "execution_count": 24,
   "source": [
    "imputationdir = 'test_data'\n",
    "c = 1\n",
    "osjoin = os.path.join(path, imputationdir)\n",
    "filesglob = glob.glob(os.path.join(path, imputationdir))\n",
    "print(osjoin)\n",
    "print(filesglob)"
   ],
   "outputs": [
    {
     "output_type": "stream",
     "name": "stdout",
     "text": [
      "/home/oportoles/Documents/MyCode/hipsnp/test_data\n",
      "['/home/oportoles/Documents/MyCode/hipsnp/test_data']\n"
     ]
    }
   ],
   "metadata": {}
  },
  {
   "cell_type": "code",
   "execution_count": 72,
   "source": [
    "p = Path(path)\n",
    "for file in p.glob(imputationdir):\n",
    "    print(file)\n"
   ],
   "outputs": [
    {
     "output_type": "stream",
     "name": "stdout",
     "text": [
      "/home/oportoles/Documents/MyCode/hipsnp/test_data\n"
     ]
    }
   ],
   "metadata": {}
  },
  {
   "cell_type": "code",
   "execution_count": 99,
   "source": [
    "list(Path(path).glob(imputationdir))"
   ],
   "outputs": [
    {
     "output_type": "execute_result",
     "data": {
      "text/plain": [
       "[PosixPath('/home/oportoles/Documents/MyCode/hipsnp/test_data')]"
      ]
     },
     "metadata": {},
     "execution_count": 99
    }
   ],
   "metadata": {}
  },
  {
   "cell_type": "code",
   "execution_count": 66,
   "source": [
    "for file in Path(path).rglob('docs'):\n",
    "    print(file)"
   ],
   "outputs": [
    {
     "output_type": "stream",
     "name": "stdout",
     "text": [
      "/home/oportoles/Documents/MyCode/hipsnp/hipspn/docs\n"
     ]
    }
   ],
   "metadata": {}
  },
  {
   "cell_type": "code",
   "execution_count": 133,
   "source": [
    "list(Path(Path.cwd()).iterdir())"
   ],
   "outputs": [
    {
     "output_type": "execute_result",
     "data": {
      "text/plain": [
       "[PosixPath('/home/oportoles/Documents/MyCode/hipsnp/hipspn/hipsnp/tests/.ipynb_checkpoints'),\n",
       " PosixPath('/home/oportoles/Documents/MyCode/hipsnp/hipspn/hipsnp/tests/retrieveGenData.ipynb'),\n",
       " PosixPath('/home/oportoles/Documents/MyCode/hipsnp/hipspn/hipsnp/tests/hipsnp_test.py'),\n",
       " PosixPath('/home/oportoles/Documents/MyCode/hipsnp/hipspn/hipsnp/tests/.pytest_cache'),\n",
       " PosixPath('/home/oportoles/Documents/MyCode/hipsnp/hipspn/hipsnp/tests/.vscode'),\n",
       " PosixPath('/home/oportoles/Documents/MyCode/hipsnp/hipspn/hipsnp/tests/try_pathlib.ipynb'),\n",
       " PosixPath('/home/oportoles/Documents/MyCode/hipsnp/hipspn/hipsnp/tests/__init__.py'),\n",
       " PosixPath('/home/oportoles/Documents/MyCode/hipsnp/hipspn/hipsnp/tests/__pycache__'),\n",
       " PosixPath('/home/oportoles/Documents/MyCode/hipsnp/hipspn/hipsnp/tests/_example.py')]"
      ]
     },
     "metadata": {},
     "execution_count": 133
    }
   ],
   "metadata": {}
  },
  {
   "cell_type": "code",
   "execution_count": 142,
   "source": [
    "bname = os.path.basename(path[:-1])\n",
    "print(bname)\n",
    "bname = os.path.splitext(bname)[0]\n",
    "print(bname)"
   ],
   "outputs": [
    {
     "output_type": "stream",
     "name": "stdout",
     "text": [
      "hipsnp\n",
      "hipsnp\n"
     ]
    }
   ],
   "metadata": {}
  },
  {
   "cell_type": "code",
   "execution_count": 141,
   "source": [
    "os.path.split(path[:-1])"
   ],
   "outputs": [
    {
     "output_type": "execute_result",
     "data": {
      "text/plain": [
       "('/home/oportoles/Documents/MyCode', 'hipsnp')"
      ]
     },
     "metadata": {},
     "execution_count": 141
    }
   ],
   "metadata": {}
  },
  {
   "cell_type": "code",
   "execution_count": 151,
   "source": [
    "vcf_files = '/home/oportoles/Documents/MyCode/hipsnp/hipspn/hipsnp'#, '/home/oportoles/Documents/MyCode/hipsnp/hipspn/hipsnp/tests']\n",
    "vcf_filesG = glob.glob(vcf_files + '/*.py')\n",
    "vcf_files = list(Path(vcf_files).glob('*.py'))\n",
    "print(vcf_filesG)\n",
    "print(vcf_files)"
   ],
   "outputs": [
    {
     "output_type": "stream",
     "name": "stdout",
     "text": [
      "['/home/oportoles/Documents/MyCode/hipsnp/hipspn/hipsnp/_version.py', '/home/oportoles/Documents/MyCode/hipsnp/hipspn/hipsnp/hipsnp.py', '/home/oportoles/Documents/MyCode/hipsnp/hipspn/hipsnp/__init__.py', '/home/oportoles/Documents/MyCode/hipsnp/hipspn/hipsnp/see_function_temp.py']\n",
      "[PosixPath('/home/oportoles/Documents/MyCode/hipsnp/hipspn/hipsnp/_version.py'), PosixPath('/home/oportoles/Documents/MyCode/hipsnp/hipspn/hipsnp/hipsnp.py'), PosixPath('/home/oportoles/Documents/MyCode/hipsnp/hipspn/hipsnp/__init__.py'), PosixPath('/home/oportoles/Documents/MyCode/hipsnp/hipspn/hipsnp/see_function_temp.py')]\n"
     ]
    }
   ],
   "metadata": {}
  },
  {
   "cell_type": "code",
   "execution_count": 17,
   "source": [
    "p = Path.cwd()\n",
    "ps = str(p)\n",
    "print(p)\n",
    "print(ps)\n",
    "print(type(p) == PosixPath or type(p) == str)\n",
    "print(type(ps) == PosixPath and type(ps) == str)"
   ],
   "outputs": [
    {
     "output_type": "stream",
     "name": "stdout",
     "text": [
      "/home/oportoles/Documents/MyCode/hipsnp/hipspn/hipsnp/tests\n",
      "/home/oportoles/Documents/MyCode/hipsnp/hipspn/hipsnp/tests\n",
      "True\n",
      "False\n"
     ]
    }
   ],
   "metadata": {}
  },
  {
   "cell_type": "code",
   "execution_count": 158,
   "source": [
    "qctool = 'qctool'\n",
    "apps = '/home/oportoles/Apps'\n",
    "\n",
    "p = Path('/home/oportoles/').rglob('*qctool*')\n",
    "print(list(p))"
   ],
   "outputs": [
    {
     "output_type": "stream",
     "name": "stdout",
     "text": [
      "[PosixPath('/home/oportoles/Downloads/qctool_v2.0.6-Ubuntu16.04-x86_64.tgz'), PosixPath('/home/oportoles/Apps/qctool_v2.0.6-Ubuntu16.04-x86_64'), PosixPath('/home/oportoles/Apps/qctool_v2.0.6-Ubuntu16.04-x86_64/qctool')]\n"
     ]
    }
   ],
   "metadata": {}
  }
 ],
 "metadata": {
  "orig_nbformat": 4,
  "language_info": {
   "name": "python",
   "version": "3.9.7",
   "mimetype": "text/x-python",
   "codemirror_mode": {
    "name": "ipython",
    "version": 3
   },
   "pygments_lexer": "ipython3",
   "nbconvert_exporter": "python",
   "file_extension": ".py"
  },
  "kernelspec": {
   "name": "python3",
   "display_name": "Python 3.9.7 64-bit ('hipsnp': conda)"
  },
  "interpreter": {
   "hash": "2b1aa8931297af81b57c68f51b10f2c6d8e745e0e88872623576bd4c403c5778"
  }
 },
 "nbformat": 4,
 "nbformat_minor": 2
}