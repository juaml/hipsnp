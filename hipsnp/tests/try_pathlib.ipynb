{
 "cells": [
  {
   "cell_type": "code",
   "execution_count": 1,
   "source": [
    "import os\n",
    "from pathlib import Path, PosixPath\n",
    "import glob\n",
    "import shutil"
   ],
   "outputs": [],
   "metadata": {}
  },
  {
   "cell_type": "code",
   "execution_count": 21,
   "source": [
    "path = '/home/oportoles/Documents/MyCode/hipsnp/'"
   ],
   "outputs": [],
   "metadata": {}
  },
  {
   "cell_type": "code",
   "execution_count": 3,
   "source": [
    "pos = os.path.join('/tmp', 'genetic')\n",
    "pp = Path('/tmp/genetic')"
   ],
   "outputs": [],
   "metadata": {}
  },
  {
   "cell_type": "code",
   "execution_count": 8,
   "source": [
    "print(pp)\n",
    "print(pos)"
   ],
   "outputs": [
    {
     "output_type": "stream",
     "name": "stdout",
     "text": [
      "/tmp/genetic\n",
      "/tmp/genetic\n"
     ]
    }
   ],
   "metadata": {}
  },
  {
   "cell_type": "code",
   "execution_count": 24,
   "source": [
    "imputationdir = 'test_data'\n",
    "c = 1\n",
    "osjoin = os.path.join(path, imputationdir)\n",
    "filesglob = glob.glob(os.path.join(path, imputationdir))\n",
    "print(osjoin)\n",
    "print(filesglob)"
   ],
   "outputs": [
    {
     "output_type": "stream",
     "name": "stdout",
     "text": [
      "/home/oportoles/Documents/MyCode/hipsnp/test_data\n",
      "['/home/oportoles/Documents/MyCode/hipsnp/test_data']\n"
     ]
    }
   ],
   "metadata": {}
  },
  {
   "cell_type": "code",
   "execution_count": 72,
   "source": [
    "p = Path(path)\n",
    "for file in p.glob(imputationdir):\n",
    "    print(file)\n"
   ],
   "outputs": [
    {
     "output_type": "stream",
     "name": "stdout",
     "text": [
      "/home/oportoles/Documents/MyCode/hipsnp/test_data\n"
     ]
    }
   ],
   "metadata": {}
  },
  {
   "cell_type": "code",
   "execution_count": 99,
   "source": [
    "list(Path(path).glob(imputationdir))"
   ],
   "outputs": [
    {
     "output_type": "execute_result",
     "data": {
      "text/plain": [
       "[PosixPath('/home/oportoles/Documents/MyCode/hipsnp/test_data')]"
      ]
     },
     "metadata": {},
     "execution_count": 99
    }
   ],
   "metadata": {}
  },
  {
   "cell_type": "code",
   "execution_count": 66,
   "source": [
    "for file in Path(path).rglob('docs'):\n",
    "    print(file)"
   ],
   "outputs": [
    {
     "output_type": "stream",
     "name": "stdout",
     "text": [
      "/home/oportoles/Documents/MyCode/hipsnp/hipspn/docs\n"
     ]
    }
   ],
   "metadata": {}
  },
  {
   "cell_type": "code",
   "execution_count": 133,
   "source": [
    "list(Path(Path.cwd()).iterdir())"
   ],
   "outputs": [
    {
     "output_type": "execute_result",
     "data": {
      "text/plain": [
       "[PosixPath('/home/oportoles/Documents/MyCode/hipsnp/hipspn/hipsnp/tests/.ipynb_checkpoints'),\n",
       " PosixPath('/home/oportoles/Documents/MyCode/hipsnp/hipspn/hipsnp/tests/retrieveGenData.ipynb'),\n",
       " PosixPath('/home/oportoles/Documents/MyCode/hipsnp/hipspn/hipsnp/tests/hipsnp_test.py'),\n",
       " PosixPath('/home/oportoles/Documents/MyCode/hipsnp/hipspn/hipsnp/tests/.pytest_cache'),\n",
       " PosixPath('/home/oportoles/Documents/MyCode/hipsnp/hipspn/hipsnp/tests/.vscode'),\n",
       " PosixPath('/home/oportoles/Documents/MyCode/hipsnp/hipspn/hipsnp/tests/try_pathlib.ipynb'),\n",
       " PosixPath('/home/oportoles/Documents/MyCode/hipsnp/hipspn/hipsnp/tests/__init__.py'),\n",
       " PosixPath('/home/oportoles/Documents/MyCode/hipsnp/hipspn/hipsnp/tests/__pycache__'),\n",
       " PosixPath('/home/oportoles/Documents/MyCode/hipsnp/hipspn/hipsnp/tests/_example.py')]"
      ]
     },
     "metadata": {},
     "execution_count": 133
    }
   ],
   "metadata": {}
  },
  {
   "cell_type": "code",
   "execution_count": 142,
   "source": [
    "bname = os.path.basename(path[:-1])\n",
    "print(bname)\n",
    "bname = os.path.splitext(bname)[0]\n",
    "print(bname)"
   ],
   "outputs": [
    {
     "output_type": "stream",
     "name": "stdout",
     "text": [
      "hipsnp\n",
      "hipsnp\n"
     ]
    }
   ],
   "metadata": {}
  },
  {
   "cell_type": "code",
   "execution_count": 141,
   "source": [
    "os.path.split(path[:-1])"
   ],
   "outputs": [
    {
     "output_type": "execute_result",
     "data": {
      "text/plain": [
       "('/home/oportoles/Documents/MyCode', 'hipsnp')"
      ]
     },
     "metadata": {},
     "execution_count": 141
    }
   ],
   "metadata": {}
  },
  {
   "cell_type": "code",
   "execution_count": 151,
   "source": [
    "vcf_files = '/home/oportoles/Documents/MyCode/hipsnp/hipspn/hipsnp'#, '/home/oportoles/Documents/MyCode/hipsnp/hipspn/hipsnp/tests']\n",
    "vcf_filesG = glob.glob(vcf_files + '/*.py')\n",
    "vcf_files = list(Path(vcf_files).glob('*.py'))\n",
    "print(vcf_filesG)\n",
    "print(vcf_files)"
   ],
   "outputs": [
    {
     "output_type": "stream",
     "name": "stdout",
     "text": [
      "['/home/oportoles/Documents/MyCode/hipsnp/hipspn/hipsnp/_version.py', '/home/oportoles/Documents/MyCode/hipsnp/hipspn/hipsnp/hipsnp.py', '/home/oportoles/Documents/MyCode/hipsnp/hipspn/hipsnp/__init__.py', '/home/oportoles/Documents/MyCode/hipsnp/hipspn/hipsnp/see_function_temp.py']\n",
      "[PosixPath('/home/oportoles/Documents/MyCode/hipsnp/hipspn/hipsnp/_version.py'), PosixPath('/home/oportoles/Documents/MyCode/hipsnp/hipspn/hipsnp/hipsnp.py'), PosixPath('/home/oportoles/Documents/MyCode/hipsnp/hipspn/hipsnp/__init__.py'), PosixPath('/home/oportoles/Documents/MyCode/hipsnp/hipspn/hipsnp/see_function_temp.py')]\n"
     ]
    }
   ],
   "metadata": {}
  },
  {
   "cell_type": "code",
   "execution_count": 17,
   "source": [
    "p = Path.cwd()\n",
    "ps = str(p)\n",
    "print(p)\n",
    "print(ps)\n",
    "print(type(p) == PosixPath or type(p) == str)\n",
    "print(type(ps) == PosixPath and type(ps) == str)"
   ],
   "outputs": [
    {
     "output_type": "stream",
     "name": "stdout",
     "text": [
      "/home/oportoles/Documents/MyCode/hipsnp/hipspn/hipsnp/tests\n",
      "/home/oportoles/Documents/MyCode/hipsnp/hipspn/hipsnp/tests\n",
      "True\n",
      "False\n"
     ]
    }
   ],
   "metadata": {}
  },
  {
   "cell_type": "code",
   "execution_count": 158,
   "source": [
    "qctool = 'qctool'\n",
    "apps = '/home/oportoles/Apps'\n",
    "\n",
    "p = Path('/home/oportoles/').rglob('*qctool*')\n",
    "print(list(p))"
   ],
   "outputs": [
    {
     "output_type": "stream",
     "name": "stdout",
     "text": [
      "[PosixPath('/home/oportoles/Downloads/qctool_v2.0.6-Ubuntu16.04-x86_64.tgz'), PosixPath('/home/oportoles/Apps/qctool_v2.0.6-Ubuntu16.04-x86_64'), PosixPath('/home/oportoles/Apps/qctool_v2.0.6-Ubuntu16.04-x86_64/qctool')]\n"
     ]
    }
   ],
   "metadata": {}
  },
  {
   "cell_type": "code",
   "execution_count": 3,
   "source": [
    "Path('tempdir') / 'genetic' / 'imputation' / 'example_c1_v0.sample'"
   ],
   "outputs": [
    {
     "output_type": "execute_result",
     "data": {
      "text/plain": [
       "PosixPath('tempdir/genetic/imputation/example_c1_v0.sample')"
      ]
     },
     "metadata": {},
     "execution_count": 3
    }
   ],
   "metadata": {}
  },
  {
   "cell_type": "code",
   "execution_count": 7,
   "source": [
    "path_vcf = (\"/home/oportoles/Documents/MyCode/hipsnp/\" + \n",
    "                \"test_data/output/chromosome1.vcf\")\n",
    "path_vcf"
   ],
   "outputs": [
    {
     "output_type": "execute_result",
     "data": {
      "text/plain": [
       "'/home/oportoles/Documents/MyCode/hipsnp/test_data/output/chromosome1.vcf'"
      ]
     },
     "metadata": {},
     "execution_count": 7
    }
   ],
   "metadata": {}
  },
  {
   "cell_type": "code",
   "execution_count": 15,
   "source": [
    "len(list(os.walk('/tmp/genetic', topdown=False)))"
   ],
   "outputs": [
    {
     "output_type": "execute_result",
     "data": {
      "text/plain": [
       "46"
      ]
     },
     "metadata": {},
     "execution_count": 15
    }
   ],
   "metadata": {}
  },
  {
   "cell_type": "code",
   "execution_count": 17,
   "source": [
    "for root, dirs, files in os.walk(\"/tmp/genetic/\", topdown=False):\n",
    "   for name in files:\n",
    "      print(os.path.join(root, name))\n",
    "   for name in dirs:\n",
    "      print(os.path.join(root, name))"
   ],
   "outputs": [
    {
     "output_type": "stream",
     "name": "stdout",
     "text": [
      "/tmp/genetic/.datalad/config\n",
      "/tmp/genetic/.datalad/.gitattributes\n",
      "/tmp/genetic/.git/refs/remotes/origin/HEAD\n",
      "/tmp/genetic/.git/refs/remotes/origin\n",
      "/tmp/genetic/.git/refs/annex/last-index\n",
      "/tmp/genetic/.git/refs/heads/master\n",
      "/tmp/genetic/.git/refs/heads/git-annex\n",
      "/tmp/genetic/.git/refs/remotes\n",
      "/tmp/genetic/.git/refs/tags\n",
      "/tmp/genetic/.git/refs/annex\n",
      "/tmp/genetic/.git/refs/heads\n",
      "/tmp/genetic/.git/hooks/post-checkout\n",
      "/tmp/genetic/.git/hooks/push-to-checkout.sample\n",
      "/tmp/genetic/.git/hooks/post-merge\n",
      "/tmp/genetic/.git/hooks/pre-commit.sample\n",
      "/tmp/genetic/.git/hooks/pre-receive.sample\n",
      "/tmp/genetic/.git/hooks/post-receive\n",
      "/tmp/genetic/.git/hooks/pre-rebase.sample\n",
      "/tmp/genetic/.git/hooks/pre-commit\n",
      "/tmp/genetic/.git/hooks/pre-applypatch.sample\n",
      "/tmp/genetic/.git/hooks/pre-push.sample\n",
      "/tmp/genetic/.git/hooks/post-update.sample\n",
      "/tmp/genetic/.git/hooks/fsmonitor-watchman.sample\n",
      "/tmp/genetic/.git/hooks/applypatch-msg.sample\n",
      "/tmp/genetic/.git/hooks/update.sample\n",
      "/tmp/genetic/.git/hooks/pre-merge-commit.sample\n",
      "/tmp/genetic/.git/hooks/commit-msg.sample\n",
      "/tmp/genetic/.git/hooks/prepare-commit-msg.sample\n",
      "/tmp/genetic/.git/info/attributes\n",
      "/tmp/genetic/.git/info/exclude\n",
      "/tmp/genetic/.git/annex/ssh/git@gin.g-node.org.lock\n",
      "/tmp/genetic/.git/annex/transfer/download/fed9c8b8-b67a-433b-9fa4-420b43719c7f\n",
      "/tmp/genetic/.git/annex/transfer/download\n",
      "/tmp/genetic/.git/annex/keysdb/db\n",
      "/tmp/genetic/.git/annex/objects/4x/Mg/MD5E-s5505--8809221321595c78a241d96313d0d01c/MD5E-s5505--8809221321595c78a241d96313d0d01c\n",
      "/tmp/genetic/.git/annex/objects/4x/Mg/MD5E-s5505--8809221321595c78a241d96313d0d01c\n",
      "/tmp/genetic/.git/annex/objects/4x/Mg\n",
      "/tmp/genetic/.git/annex/objects/2J/8g/MD5E-s665108--b8d324a100ce3910ef359da0bd903398.bgen/MD5E-s665108--b8d324a100ce3910ef359da0bd903398.bgen\n",
      "/tmp/genetic/.git/annex/objects/2J/8g/MD5E-s665108--b8d324a100ce3910ef359da0bd903398.bgen\n",
      "/tmp/genetic/.git/annex/objects/2J/8g\n",
      "/tmp/genetic/.git/annex/objects/4x\n",
      "/tmp/genetic/.git/annex/objects/2J\n",
      "/tmp/genetic/.git/annex/othertmp.lck\n",
      "/tmp/genetic/.git/annex/sentinal.cache\n",
      "/tmp/genetic/.git/annex/sentinal\n",
      "/tmp/genetic/.git/annex/index\n",
      "/tmp/genetic/.git/annex/keysdb.lck\n",
      "/tmp/genetic/.git/annex/keysdb.cache\n",
      "/tmp/genetic/.git/annex/journal.lck\n",
      "/tmp/genetic/.git/annex/index.lck\n",
      "/tmp/genetic/.git/annex/ssh\n",
      "/tmp/genetic/.git/annex/journal\n",
      "/tmp/genetic/.git/annex/tmp\n",
      "/tmp/genetic/.git/annex/transfer\n",
      "/tmp/genetic/.git/annex/keysdb\n",
      "/tmp/genetic/.git/annex/objects\n",
      "/tmp/genetic/.git/logs/refs/remotes/origin/HEAD\n",
      "/tmp/genetic/.git/logs/refs/remotes/origin\n",
      "/tmp/genetic/.git/logs/refs/heads/master\n",
      "/tmp/genetic/.git/logs/refs/heads/git-annex\n",
      "/tmp/genetic/.git/logs/refs/remotes\n",
      "/tmp/genetic/.git/logs/refs/heads\n",
      "/tmp/genetic/.git/logs/HEAD\n",
      "/tmp/genetic/.git/logs/refs\n",
      "/tmp/genetic/.git/objects/pack/pack-9295b589c091a566b58d80b2ae7a31316bf1f769.idx\n",
      "/tmp/genetic/.git/objects/pack/pack-9295b589c091a566b58d80b2ae7a31316bf1f769.pack\n",
      "/tmp/genetic/.git/objects/12/760efbacd69e7a24e9357d516740af6552331e\n",
      "/tmp/genetic/.git/objects/de/864253428a543dde10b0bcd2b9b2b42940f23e\n",
      "/tmp/genetic/.git/objects/b1/d577afa1bec7b9ef770d4ed2c6b33e25f0da9b\n",
      "/tmp/genetic/.git/objects/5c/3a527f6faa271bebc83dc9803b76a065dfab0a\n",
      "/tmp/genetic/.git/objects/ab/c3294664372ab59787fae6640fe247ab6a816e\n",
      "/tmp/genetic/.git/objects/a1/69ef763ce430e3eb15b655e706d43b01e4af5a\n",
      "/tmp/genetic/.git/objects/e5/e9614ef968f14e036550e3f140fda64767b585\n",
      "/tmp/genetic/.git/objects/00/ac7b327814e80d5e013e65069221252b7ff8c6\n",
      "/tmp/genetic/.git/objects/08/84020afffc75d969a1e4c868f12595874125c2\n",
      "/tmp/genetic/.git/objects/bc/bd8c03f037ee31426a0a7e476d01e49d2b6098\n",
      "/tmp/genetic/.git/objects/1e/d770dcfce3e4888a25022eb8cf481d7647fac4\n",
      "/tmp/genetic/.git/objects/pack\n",
      "/tmp/genetic/.git/objects/12\n",
      "/tmp/genetic/.git/objects/de\n",
      "/tmp/genetic/.git/objects/b1\n",
      "/tmp/genetic/.git/objects/5c\n",
      "/tmp/genetic/.git/objects/ab\n",
      "/tmp/genetic/.git/objects/a1\n",
      "/tmp/genetic/.git/objects/e5\n",
      "/tmp/genetic/.git/objects/00\n",
      "/tmp/genetic/.git/objects/info\n",
      "/tmp/genetic/.git/objects/08\n",
      "/tmp/genetic/.git/objects/bc\n",
      "/tmp/genetic/.git/objects/1e\n",
      "/tmp/genetic/.git/config\n",
      "/tmp/genetic/.git/HEAD\n",
      "/tmp/genetic/.git/index\n",
      "/tmp/genetic/.git/packed-refs\n",
      "/tmp/genetic/.git/description\n",
      "/tmp/genetic/.git/refs\n",
      "/tmp/genetic/.git/hooks\n",
      "/tmp/genetic/.git/info\n",
      "/tmp/genetic/.git/annex\n",
      "/tmp/genetic/.git/logs\n",
      "/tmp/genetic/.git/objects\n",
      "/tmp/genetic/imputation/example_c1_v0.sample\n",
      "/tmp/genetic/imputation/example_c1_v0.bgen\n",
      "/tmp/genetic/.gitattributes\n",
      "/tmp/genetic/.datalad\n",
      "/tmp/genetic/.git\n",
      "/tmp/genetic/imputation\n"
     ]
    }
   ],
   "metadata": {}
  }
 ],
 "metadata": {
  "orig_nbformat": 4,
  "language_info": {
   "name": "python",
   "version": "3.9.7",
   "mimetype": "text/x-python",
   "codemirror_mode": {
    "name": "ipython",
    "version": 3
   },
   "pygments_lexer": "ipython3",
   "nbconvert_exporter": "python",
   "file_extension": ".py"
  },
  "kernelspec": {
   "name": "python3",
   "display_name": "Python 3.9.7 64-bit ('hipsnp': conda)"
  },
  "interpreter": {
   "hash": "2b1aa8931297af81b57c68f51b10f2c6d8e745e0e88872623576bd4c403c5778"
  }
 },
 "nbformat": 4,
 "nbformat_minor": 2
}