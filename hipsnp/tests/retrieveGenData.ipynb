{
 "cells": [
  {
   "cell_type": "code",
   "execution_count": 32,
   "source": [
    "from sys import path\n",
    "from bgen_reader import example_filepath\n",
    "from bgen_reader import read_bgen\n",
    "import numpy as np"
   ],
   "outputs": [],
   "metadata": {}
  },
  {
   "cell_type": "code",
   "execution_count": 34,
   "source": [
    "filepath = {}\n",
    "filepath[\"example.bgen\"] = example_filepath(\"example.bgen\")\n",
    "#filepath[\"haplotypes.bgen\"] = example_filepath(\"haplotypes.bgen\")\n",
    "#filepath[\"complex.bgen\"] = example_filepath(\"complex.bgen\")"
   ],
   "outputs": [],
   "metadata": {}
  },
  {
   "cell_type": "code",
   "execution_count": 35,
   "source": [
    "filepath[\"example.bgen\"] "
   ],
   "outputs": [
    {
     "output_type": "execute_result",
     "data": {
      "text/plain": [
       "PosixPath('/home/oportoles/.cache/bgen-reader/bgen-reader/test_data/example.bgen')"
      ]
     },
     "metadata": {},
     "execution_count": 35
    }
   ],
   "metadata": {}
  },
  {
   "cell_type": "code",
   "execution_count": 4,
   "source": [
    "\n",
    "bgen = read_bgen(filepath[\"example.bgen\"], verbose=False)"
   ],
   "outputs": [],
   "metadata": {}
  },
  {
   "cell_type": "code",
   "execution_count": 6,
   "source": [
    "print(bgen.keys())\n",
    "print(type(bgen['variants']))\n",
    "print(type(bgen['samples']))\n",
    "print(type(bgen['genotype']))"
   ],
   "outputs": [
    {
     "output_type": "stream",
     "name": "stdout",
     "text": [
      "dict_keys(['variants', 'samples', 'genotype'])\n",
      "<class 'dask.dataframe.core.DataFrame'>\n",
      "<class 'pandas.core.series.Series'>\n",
      "<class 'list'>\n"
     ]
    }
   ],
   "metadata": {}
  },
  {
   "cell_type": "code",
   "execution_count": 14,
   "source": [
    "np.savez('/home/oportoles/Documents/MyCode/hipsnp/hipspn/hipsnp/tests/databgen.npz',bgen)"
   ],
   "outputs": [
    {
     "output_type": "error",
     "ename": "AttributeError",
     "evalue": "Can't pickle local object '_get_read_genotype.<locals>.read_genotype'",
     "traceback": [
      "\u001b[0;31m---------------------------------------------------------------------------\u001b[0m",
      "\u001b[0;31mAttributeError\u001b[0m                            Traceback (most recent call last)",
      "\u001b[0;32m/tmp/ipykernel_9615/2483081483.py\u001b[0m in \u001b[0;36m<module>\u001b[0;34m\u001b[0m\n\u001b[0;32m----> 1\u001b[0;31m \u001b[0mnp\u001b[0m\u001b[0;34m.\u001b[0m\u001b[0msavez\u001b[0m\u001b[0;34m(\u001b[0m\u001b[0;34m'/home/oportoles/Documents/MyCode/hipsnp/hipspn/hipsnp/tests/databgen.npz'\u001b[0m\u001b[0;34m,\u001b[0m\u001b[0mbgen\u001b[0m\u001b[0;34m)\u001b[0m\u001b[0;34m\u001b[0m\u001b[0;34m\u001b[0m\u001b[0m\n\u001b[0m",
      "\u001b[0;32m<__array_function__ internals>\u001b[0m in \u001b[0;36msavez\u001b[0;34m(*args, **kwargs)\u001b[0m\n",
      "\u001b[0;32m~/miniconda3/envs/hipsnp/lib/python3.9/site-packages/numpy/lib/npyio.py\u001b[0m in \u001b[0;36msavez\u001b[0;34m(file, *args, **kwds)\u001b[0m\n\u001b[1;32m    616\u001b[0m \u001b[0;34m\u001b[0m\u001b[0m\n\u001b[1;32m    617\u001b[0m     \"\"\"\n\u001b[0;32m--> 618\u001b[0;31m     \u001b[0m_savez\u001b[0m\u001b[0;34m(\u001b[0m\u001b[0mfile\u001b[0m\u001b[0;34m,\u001b[0m \u001b[0margs\u001b[0m\u001b[0;34m,\u001b[0m \u001b[0mkwds\u001b[0m\u001b[0;34m,\u001b[0m \u001b[0;32mFalse\u001b[0m\u001b[0;34m)\u001b[0m\u001b[0;34m\u001b[0m\u001b[0;34m\u001b[0m\u001b[0m\n\u001b[0m\u001b[1;32m    619\u001b[0m \u001b[0;34m\u001b[0m\u001b[0m\n\u001b[1;32m    620\u001b[0m \u001b[0;34m\u001b[0m\u001b[0m\n",
      "\u001b[0;32m~/miniconda3/envs/hipsnp/lib/python3.9/site-packages/numpy/lib/npyio.py\u001b[0m in \u001b[0;36m_savez\u001b[0;34m(file, args, kwds, compress, allow_pickle, pickle_kwargs)\u001b[0m\n\u001b[1;32m    720\u001b[0m         \u001b[0;31m# always force zip64, gh-10776\u001b[0m\u001b[0;34m\u001b[0m\u001b[0;34m\u001b[0m\u001b[0m\n\u001b[1;32m    721\u001b[0m         \u001b[0;32mwith\u001b[0m \u001b[0mzipf\u001b[0m\u001b[0;34m.\u001b[0m\u001b[0mopen\u001b[0m\u001b[0;34m(\u001b[0m\u001b[0mfname\u001b[0m\u001b[0;34m,\u001b[0m \u001b[0;34m'w'\u001b[0m\u001b[0;34m,\u001b[0m \u001b[0mforce_zip64\u001b[0m\u001b[0;34m=\u001b[0m\u001b[0;32mTrue\u001b[0m\u001b[0;34m)\u001b[0m \u001b[0;32mas\u001b[0m \u001b[0mfid\u001b[0m\u001b[0;34m:\u001b[0m\u001b[0;34m\u001b[0m\u001b[0;34m\u001b[0m\u001b[0m\n\u001b[0;32m--> 722\u001b[0;31m             format.write_array(fid, val,\n\u001b[0m\u001b[1;32m    723\u001b[0m                                \u001b[0mallow_pickle\u001b[0m\u001b[0;34m=\u001b[0m\u001b[0mallow_pickle\u001b[0m\u001b[0;34m,\u001b[0m\u001b[0;34m\u001b[0m\u001b[0;34m\u001b[0m\u001b[0m\n\u001b[1;32m    724\u001b[0m                                pickle_kwargs=pickle_kwargs)\n",
      "\u001b[0;32m~/miniconda3/envs/hipsnp/lib/python3.9/site-packages/numpy/lib/format.py\u001b[0m in \u001b[0;36mwrite_array\u001b[0;34m(fp, array, version, allow_pickle, pickle_kwargs)\u001b[0m\n\u001b[1;32m    678\u001b[0m         \u001b[0;32mif\u001b[0m \u001b[0mpickle_kwargs\u001b[0m \u001b[0;32mis\u001b[0m \u001b[0;32mNone\u001b[0m\u001b[0;34m:\u001b[0m\u001b[0;34m\u001b[0m\u001b[0;34m\u001b[0m\u001b[0m\n\u001b[1;32m    679\u001b[0m             \u001b[0mpickle_kwargs\u001b[0m \u001b[0;34m=\u001b[0m \u001b[0;34m{\u001b[0m\u001b[0;34m}\u001b[0m\u001b[0;34m\u001b[0m\u001b[0;34m\u001b[0m\u001b[0m\n\u001b[0;32m--> 680\u001b[0;31m         \u001b[0mpickle\u001b[0m\u001b[0;34m.\u001b[0m\u001b[0mdump\u001b[0m\u001b[0;34m(\u001b[0m\u001b[0marray\u001b[0m\u001b[0;34m,\u001b[0m \u001b[0mfp\u001b[0m\u001b[0;34m,\u001b[0m \u001b[0mprotocol\u001b[0m\u001b[0;34m=\u001b[0m\u001b[0;36m3\u001b[0m\u001b[0;34m,\u001b[0m \u001b[0;34m**\u001b[0m\u001b[0mpickle_kwargs\u001b[0m\u001b[0;34m)\u001b[0m\u001b[0;34m\u001b[0m\u001b[0;34m\u001b[0m\u001b[0m\n\u001b[0m\u001b[1;32m    681\u001b[0m     \u001b[0;32melif\u001b[0m \u001b[0marray\u001b[0m\u001b[0;34m.\u001b[0m\u001b[0mflags\u001b[0m\u001b[0;34m.\u001b[0m\u001b[0mf_contiguous\u001b[0m \u001b[0;32mand\u001b[0m \u001b[0;32mnot\u001b[0m \u001b[0marray\u001b[0m\u001b[0;34m.\u001b[0m\u001b[0mflags\u001b[0m\u001b[0;34m.\u001b[0m\u001b[0mc_contiguous\u001b[0m\u001b[0;34m:\u001b[0m\u001b[0;34m\u001b[0m\u001b[0;34m\u001b[0m\u001b[0m\n\u001b[1;32m    682\u001b[0m         \u001b[0;32mif\u001b[0m \u001b[0misfileobj\u001b[0m\u001b[0;34m(\u001b[0m\u001b[0mfp\u001b[0m\u001b[0;34m)\u001b[0m\u001b[0;34m:\u001b[0m\u001b[0;34m\u001b[0m\u001b[0;34m\u001b[0m\u001b[0m\n",
      "\u001b[0;31mAttributeError\u001b[0m: Can't pickle local object '_get_read_genotype.<locals>.read_genotype'"
     ]
    }
   ],
   "metadata": {}
  },
  {
   "cell_type": "code",
   "execution_count": 20,
   "source": [
    "import pickle\n",
    "import os\n",
    "try:\n",
    "    f = open('/home/oportoles/Documents/MyCode/hipsnp/hipspn/hipsnp/tests/databgen', mode='wb')\n",
    "except:\n",
    "    print(\"cannot open a file\")\n",
    "try:\n",
    "    pickle.dump(bgen, f)\n",
    "    f.close()\n",
    "except:\n",
    "    f.close()\n",
    "    print(\"Something went wrong\")"
   ],
   "outputs": [
    {
     "output_type": "stream",
     "name": "stdout",
     "text": [
      "Something went wrong\n"
     ]
    }
   ],
   "metadata": {}
  },
  {
   "cell_type": "code",
   "execution_count": null,
   "source": [
    "    "
   ],
   "outputs": [],
   "metadata": {}
  },
  {
   "cell_type": "code",
   "execution_count": 27,
   "source": [
    "def save_object(obj, filename):\n",
    "    with open(filename, 'wb') as outp:  # Overwrites any existing file.\n",
    "        pickle.dump(obj, outp, pickle.HIGHEST_PROTOCOL)"
   ],
   "outputs": [],
   "metadata": {}
  },
  {
   "cell_type": "code",
   "execution_count": 28,
   "source": [
    "save_object(bgen, '/home/oportoles/Documents/MyCode/hipsnp/hipspn/hipsnp/tests/databgen')"
   ],
   "outputs": [
    {
     "output_type": "error",
     "ename": "TypeError",
     "evalue": "cannot pickle '_cffi_backend._CDataBase' object",
     "traceback": [
      "\u001b[0;31m---------------------------------------------------------------------------\u001b[0m",
      "\u001b[0;31mTypeError\u001b[0m                                 Traceback (most recent call last)",
      "\u001b[0;32m/tmp/ipykernel_30925/258191029.py\u001b[0m in \u001b[0;36m<module>\u001b[0;34m\u001b[0m\n\u001b[0;32m----> 1\u001b[0;31m \u001b[0msave_object\u001b[0m\u001b[0;34m(\u001b[0m\u001b[0mbgen\u001b[0m\u001b[0;34m,\u001b[0m \u001b[0;34m'/home/oportoles/Documents/MyCode/hipsnp/hipspn/hipsnp/tests/databgen'\u001b[0m\u001b[0;34m)\u001b[0m\u001b[0;34m\u001b[0m\u001b[0;34m\u001b[0m\u001b[0m\n\u001b[0m",
      "\u001b[0;32m/tmp/ipykernel_30925/3366340447.py\u001b[0m in \u001b[0;36msave_object\u001b[0;34m(obj, filename)\u001b[0m\n\u001b[1;32m      1\u001b[0m \u001b[0;32mdef\u001b[0m \u001b[0msave_object\u001b[0m\u001b[0;34m(\u001b[0m\u001b[0mobj\u001b[0m\u001b[0;34m,\u001b[0m \u001b[0mfilename\u001b[0m\u001b[0;34m)\u001b[0m\u001b[0;34m:\u001b[0m\u001b[0;34m\u001b[0m\u001b[0;34m\u001b[0m\u001b[0m\n\u001b[1;32m      2\u001b[0m     \u001b[0;32mwith\u001b[0m \u001b[0mopen\u001b[0m\u001b[0;34m(\u001b[0m\u001b[0mfilename\u001b[0m\u001b[0;34m,\u001b[0m \u001b[0;34m'wb'\u001b[0m\u001b[0;34m)\u001b[0m \u001b[0;32mas\u001b[0m \u001b[0moutp\u001b[0m\u001b[0;34m:\u001b[0m  \u001b[0;31m# Overwrites any existing file.\u001b[0m\u001b[0;34m\u001b[0m\u001b[0;34m\u001b[0m\u001b[0m\n\u001b[0;32m----> 3\u001b[0;31m         \u001b[0mpickle\u001b[0m\u001b[0;34m.\u001b[0m\u001b[0mdump\u001b[0m\u001b[0;34m(\u001b[0m\u001b[0mobj\u001b[0m\u001b[0;34m,\u001b[0m \u001b[0moutp\u001b[0m\u001b[0;34m,\u001b[0m \u001b[0mpickle\u001b[0m\u001b[0;34m.\u001b[0m\u001b[0mHIGHEST_PROTOCOL\u001b[0m\u001b[0;34m)\u001b[0m\u001b[0;34m\u001b[0m\u001b[0;34m\u001b[0m\u001b[0m\n\u001b[0m",
      "\u001b[0;31mTypeError\u001b[0m: cannot pickle '_cffi_backend._CDataBase' object"
     ]
    }
   ],
   "metadata": {}
  },
  {
   "cell_type": "markdown",
   "source": [
    "## Read BGEN as numpy"
   ],
   "metadata": {}
  },
  {
   "cell_type": "code",
   "execution_count": 8,
   "source": [
    "from bgen_reader import open_bgen\n",
    "from bgen_reader import example_filepath\n",
    "\n",
    "example_bgen_path = example_filepath(\"example.bgen\")\n",
    "bgen = open_bgen(example_bgen_path, verbose=False)"
   ],
   "outputs": [],
   "metadata": {}
  },
  {
   "cell_type": "code",
   "execution_count": 30,
   "source": [
    "# function that wgraps the object\n",
    "def bgen_object(bgen_paht=str):\n",
    "    return open_bgen(bgen_paht, verbose=False)"
   ],
   "outputs": [],
   "metadata": {}
  },
  {
   "cell_type": "code",
   "execution_count": 33,
   "source": [
    "save_object(bgen_object(example_bgen_path), '/home/oportoles/Documents/MyCode/hipsnp/hipspn/hipsnp/tests/databgen')"
   ],
   "outputs": [
    {
     "output_type": "error",
     "ename": "TypeError",
     "evalue": "cannot pickle '_cffi_backend._CDataBase' object",
     "traceback": [
      "\u001b[0;31m---------------------------------------------------------------------------\u001b[0m",
      "\u001b[0;31mTypeError\u001b[0m                                 Traceback (most recent call last)",
      "\u001b[0;32m/tmp/ipykernel_30925/3090532556.py\u001b[0m in \u001b[0;36m<module>\u001b[0;34m\u001b[0m\n\u001b[0;32m----> 1\u001b[0;31m \u001b[0msave_object\u001b[0m\u001b[0;34m(\u001b[0m\u001b[0mbgen_object\u001b[0m\u001b[0;34m(\u001b[0m\u001b[0mexample_bgen_path\u001b[0m\u001b[0;34m)\u001b[0m\u001b[0;34m,\u001b[0m \u001b[0;34m'/home/oportoles/Documents/MyCode/hipsnp/hipspn/hipsnp/tests/databgen'\u001b[0m\u001b[0;34m)\u001b[0m\u001b[0;34m\u001b[0m\u001b[0;34m\u001b[0m\u001b[0m\n\u001b[0m",
      "\u001b[0;32m/tmp/ipykernel_30925/3366340447.py\u001b[0m in \u001b[0;36msave_object\u001b[0;34m(obj, filename)\u001b[0m\n\u001b[1;32m      1\u001b[0m \u001b[0;32mdef\u001b[0m \u001b[0msave_object\u001b[0m\u001b[0;34m(\u001b[0m\u001b[0mobj\u001b[0m\u001b[0;34m,\u001b[0m \u001b[0mfilename\u001b[0m\u001b[0;34m)\u001b[0m\u001b[0;34m:\u001b[0m\u001b[0;34m\u001b[0m\u001b[0;34m\u001b[0m\u001b[0m\n\u001b[1;32m      2\u001b[0m     \u001b[0;32mwith\u001b[0m \u001b[0mopen\u001b[0m\u001b[0;34m(\u001b[0m\u001b[0mfilename\u001b[0m\u001b[0;34m,\u001b[0m \u001b[0;34m'wb'\u001b[0m\u001b[0;34m)\u001b[0m \u001b[0;32mas\u001b[0m \u001b[0moutp\u001b[0m\u001b[0;34m:\u001b[0m  \u001b[0;31m# Overwrites any existing file.\u001b[0m\u001b[0;34m\u001b[0m\u001b[0;34m\u001b[0m\u001b[0m\n\u001b[0;32m----> 3\u001b[0;31m         \u001b[0mpickle\u001b[0m\u001b[0;34m.\u001b[0m\u001b[0mdump\u001b[0m\u001b[0;34m(\u001b[0m\u001b[0mobj\u001b[0m\u001b[0;34m,\u001b[0m \u001b[0moutp\u001b[0m\u001b[0;34m,\u001b[0m \u001b[0mpickle\u001b[0m\u001b[0;34m.\u001b[0m\u001b[0mHIGHEST_PROTOCOL\u001b[0m\u001b[0;34m)\u001b[0m\u001b[0;34m\u001b[0m\u001b[0;34m\u001b[0m\u001b[0m\n\u001b[0m",
      "\u001b[0;31mTypeError\u001b[0m: cannot pickle '_cffi_backend._CDataBase' object"
     ]
    }
   ],
   "metadata": {}
  },
  {
   "cell_type": "code",
   "execution_count": 25,
   "source": [
    "probs,  = bgen.read()"
   ],
   "outputs": [],
   "metadata": {}
  },
  {
   "cell_type": "code",
   "execution_count": 34,
   "source": [
    "bgen.__dict__"
   ],
   "outputs": [
    {
     "output_type": "execute_result",
     "data": {
      "text/plain": [
       "{'_filepath': PosixPath('/home/oportoles/.cache/bgen-reader/bgen-reader/test_data/example.bgen'),\n",
       " '_allow_complex': False,\n",
       " '_verbose': False,\n",
       " '_samples_filepath': None,\n",
       " '_metadata2_path': PosixPath('/home/oportoles/.cache/bgen-reader/bgen-reader/test_data/example.bgen.metadata2.mmm'),\n",
       " '_cbgen': <cbgen._bgen_file.bgen_file at 0x7f2dd02bfb50>,\n",
       " '_nvariants': 199,\n",
       " '_nsamples': 500,\n",
       " '_metadata2_memmaps': <bgen_reader._multimemmap.MultiMemMap at 0x7f2d1df31b20>}"
      ]
     },
     "metadata": {},
     "execution_count": 34
    }
   ],
   "metadata": {}
  },
  {
   "cell_type": "code",
   "execution_count": 29,
   "source": [
    "import numpy as np\n",
    "np.savez('/home/oportoles/Documents/MyCode/hipsnp/hipspn/hipsnp/tests/databgen.npz',bgen)"
   ],
   "outputs": [
    {
     "output_type": "error",
     "ename": "TypeError",
     "evalue": "cannot pickle '_cffi_backend._CDataBase' object",
     "traceback": [
      "\u001b[0;31m---------------------------------------------------------------------------\u001b[0m",
      "\u001b[0;31mTypeError\u001b[0m                                 Traceback (most recent call last)",
      "\u001b[0;32m/tmp/ipykernel_30925/3878259998.py\u001b[0m in \u001b[0;36m<module>\u001b[0;34m\u001b[0m\n\u001b[1;32m      1\u001b[0m \u001b[0;32mimport\u001b[0m \u001b[0mnumpy\u001b[0m \u001b[0;32mas\u001b[0m \u001b[0mnp\u001b[0m\u001b[0;34m\u001b[0m\u001b[0;34m\u001b[0m\u001b[0m\n\u001b[0;32m----> 2\u001b[0;31m \u001b[0mnp\u001b[0m\u001b[0;34m.\u001b[0m\u001b[0msavez\u001b[0m\u001b[0;34m(\u001b[0m\u001b[0;34m'/home/oportoles/Documents/MyCode/hipsnp/hipspn/hipsnp/tests/databgen.npz'\u001b[0m\u001b[0;34m,\u001b[0m\u001b[0mbgen\u001b[0m\u001b[0;34m)\u001b[0m\u001b[0;34m\u001b[0m\u001b[0;34m\u001b[0m\u001b[0m\n\u001b[0m",
      "\u001b[0;32m<__array_function__ internals>\u001b[0m in \u001b[0;36msavez\u001b[0;34m(*args, **kwargs)\u001b[0m\n",
      "\u001b[0;32m~/miniconda3/envs/hipsnp/lib/python3.9/site-packages/numpy/lib/npyio.py\u001b[0m in \u001b[0;36msavez\u001b[0;34m(file, *args, **kwds)\u001b[0m\n\u001b[1;32m    616\u001b[0m \u001b[0;34m\u001b[0m\u001b[0m\n\u001b[1;32m    617\u001b[0m     \"\"\"\n\u001b[0;32m--> 618\u001b[0;31m     \u001b[0m_savez\u001b[0m\u001b[0;34m(\u001b[0m\u001b[0mfile\u001b[0m\u001b[0;34m,\u001b[0m \u001b[0margs\u001b[0m\u001b[0;34m,\u001b[0m \u001b[0mkwds\u001b[0m\u001b[0;34m,\u001b[0m \u001b[0;32mFalse\u001b[0m\u001b[0;34m)\u001b[0m\u001b[0;34m\u001b[0m\u001b[0;34m\u001b[0m\u001b[0m\n\u001b[0m\u001b[1;32m    619\u001b[0m \u001b[0;34m\u001b[0m\u001b[0m\n\u001b[1;32m    620\u001b[0m \u001b[0;34m\u001b[0m\u001b[0m\n",
      "\u001b[0;32m~/miniconda3/envs/hipsnp/lib/python3.9/site-packages/numpy/lib/npyio.py\u001b[0m in \u001b[0;36m_savez\u001b[0;34m(file, args, kwds, compress, allow_pickle, pickle_kwargs)\u001b[0m\n\u001b[1;32m    720\u001b[0m         \u001b[0;31m# always force zip64, gh-10776\u001b[0m\u001b[0;34m\u001b[0m\u001b[0;34m\u001b[0m\u001b[0m\n\u001b[1;32m    721\u001b[0m         \u001b[0;32mwith\u001b[0m \u001b[0mzipf\u001b[0m\u001b[0;34m.\u001b[0m\u001b[0mopen\u001b[0m\u001b[0;34m(\u001b[0m\u001b[0mfname\u001b[0m\u001b[0;34m,\u001b[0m \u001b[0;34m'w'\u001b[0m\u001b[0;34m,\u001b[0m \u001b[0mforce_zip64\u001b[0m\u001b[0;34m=\u001b[0m\u001b[0;32mTrue\u001b[0m\u001b[0;34m)\u001b[0m \u001b[0;32mas\u001b[0m \u001b[0mfid\u001b[0m\u001b[0;34m:\u001b[0m\u001b[0;34m\u001b[0m\u001b[0;34m\u001b[0m\u001b[0m\n\u001b[0;32m--> 722\u001b[0;31m             format.write_array(fid, val,\n\u001b[0m\u001b[1;32m    723\u001b[0m                                \u001b[0mallow_pickle\u001b[0m\u001b[0;34m=\u001b[0m\u001b[0mallow_pickle\u001b[0m\u001b[0;34m,\u001b[0m\u001b[0;34m\u001b[0m\u001b[0;34m\u001b[0m\u001b[0m\n\u001b[1;32m    724\u001b[0m                                pickle_kwargs=pickle_kwargs)\n",
      "\u001b[0;32m~/miniconda3/envs/hipsnp/lib/python3.9/site-packages/numpy/lib/format.py\u001b[0m in \u001b[0;36mwrite_array\u001b[0;34m(fp, array, version, allow_pickle, pickle_kwargs)\u001b[0m\n\u001b[1;32m    678\u001b[0m         \u001b[0;32mif\u001b[0m \u001b[0mpickle_kwargs\u001b[0m \u001b[0;32mis\u001b[0m \u001b[0;32mNone\u001b[0m\u001b[0;34m:\u001b[0m\u001b[0;34m\u001b[0m\u001b[0;34m\u001b[0m\u001b[0m\n\u001b[1;32m    679\u001b[0m             \u001b[0mpickle_kwargs\u001b[0m \u001b[0;34m=\u001b[0m \u001b[0;34m{\u001b[0m\u001b[0;34m}\u001b[0m\u001b[0;34m\u001b[0m\u001b[0;34m\u001b[0m\u001b[0m\n\u001b[0;32m--> 680\u001b[0;31m         \u001b[0mpickle\u001b[0m\u001b[0;34m.\u001b[0m\u001b[0mdump\u001b[0m\u001b[0;34m(\u001b[0m\u001b[0marray\u001b[0m\u001b[0;34m,\u001b[0m \u001b[0mfp\u001b[0m\u001b[0;34m,\u001b[0m \u001b[0mprotocol\u001b[0m\u001b[0;34m=\u001b[0m\u001b[0;36m3\u001b[0m\u001b[0;34m,\u001b[0m \u001b[0;34m**\u001b[0m\u001b[0mpickle_kwargs\u001b[0m\u001b[0;34m)\u001b[0m\u001b[0;34m\u001b[0m\u001b[0;34m\u001b[0m\u001b[0m\n\u001b[0m\u001b[1;32m    681\u001b[0m     \u001b[0;32melif\u001b[0m \u001b[0marray\u001b[0m\u001b[0;34m.\u001b[0m\u001b[0mflags\u001b[0m\u001b[0;34m.\u001b[0m\u001b[0mf_contiguous\u001b[0m \u001b[0;32mand\u001b[0m \u001b[0;32mnot\u001b[0m \u001b[0marray\u001b[0m\u001b[0;34m.\u001b[0m\u001b[0mflags\u001b[0m\u001b[0;34m.\u001b[0m\u001b[0mc_contiguous\u001b[0m\u001b[0;34m:\u001b[0m\u001b[0;34m\u001b[0m\u001b[0;34m\u001b[0m\u001b[0m\n\u001b[1;32m    682\u001b[0m         \u001b[0;32mif\u001b[0m \u001b[0misfileobj\u001b[0m\u001b[0;34m(\u001b[0m\u001b[0mfp\u001b[0m\u001b[0;34m)\u001b[0m\u001b[0;34m:\u001b[0m\u001b[0;34m\u001b[0m\u001b[0;34m\u001b[0m\u001b[0m\n",
      "\u001b[0;31mTypeError\u001b[0m: cannot pickle '_cffi_backend._CDataBase' object"
     ]
    }
   ],
   "metadata": {}
  },
  {
   "cell_type": "markdown",
   "source": [
    "## Datalad download"
   ],
   "metadata": {}
  },
  {
   "cell_type": "code",
   "execution_count": 1,
   "source": [
    "import nest_asyncio\n",
    "nest_asyncio.apply()\n",
    "\n",
    "import datalad.api as dl"
   ],
   "outputs": [],
   "metadata": {}
  },
  {
   "cell_type": "code",
   "execution_count": 37,
   "source": [
    "import os"
   ],
   "outputs": [],
   "metadata": {}
  },
  {
   "cell_type": "code",
   "execution_count": 2,
   "source": [
    "url = \"https://bgen-examples.s3.amazonaws.com\"\n",
    "filename = \"example.bgen\"\n",
    "print(f\"{url}/{filename}\")"
   ],
   "outputs": [
    {
     "output_type": "stream",
     "name": "stdout",
     "text": [
      "https://bgen-examples.s3.amazonaws.com/example.bgen\n"
     ]
    }
   ],
   "metadata": {}
  },
  {
   "cell_type": "code",
   "execution_count": 6,
   "source": [
    "\n",
    "dl.install(dataset='./test_data_datalad/DataLad-bgen',path=f\"{url}/{filename}\")"
   ],
   "outputs": [
    {
     "output_type": "stream",
     "name": "stderr",
     "text": [
      "[INFO] Cloning dataset to Dataset(/home/oportoles/Documents/MyCode/hipsnp/hipspn/hipsnp/tests/test_data_datalad/DataLad-bgen/example.bgen) \n",
      "[INFO] Attempting to clone from https://bgen-examples.s3.amazonaws.com/example.bgen to /home/oportoles/Documents/MyCode/hipsnp/hipspn/hipsnp/tests/test_data_datalad/DataLad-bgen/example.bgen \n",
      "[INFO] Attempting to clone from https://bgen-examples.s3.amazonaws.com/example.bgen/.git to /home/oportoles/Documents/MyCode/hipsnp/hipspn/hipsnp/tests/test_data_datalad/DataLad-bgen/example.bgen \n",
      "[INFO] Completed clone attempts for Dataset(/home/oportoles/Documents/MyCode/hipsnp/hipspn/hipsnp/tests/test_data_datalad/DataLad-bgen/example.bgen) \n",
      "[ERROR] Failed to clone from any candidate source URL. Encountered errors per each url were:\n",
      "| - https://bgen-examples.s3.amazonaws.com/example.bgen\n",
      "  CommandError: 'git -c diff.ignoreSubmodules=none clone --progress https://bgen-examples.s3.amazonaws.com/example.bgen /home/oportoles/Documents/MyCode/hipsnp/hipspn/hipsnp/tests/test_data_datalad/DataLad-bgen/example.bgen' failed with exitcode 128 [err: 'Cloning into '/home/oportoles/Documents/MyCode/hipsnp/hipspn/hipsnp/tests/test_data_datalad/DataLad-bgen/example.bgen'...\n",
      "fatal: unable to access 'https://bgen-examples.s3.amazonaws.com/example.bgen/': The requested URL returned error: 403']\n",
      "- https://bgen-examples.s3.amazonaws.com/example.bgen/.git\n",
      "  CommandError: 'git -c diff.ignoreSubmodules=none clone --progress https://bgen-examples.s3.amazonaws.com/example.bgen/.git /home/oportoles/Documents/MyCode/hipsnp/hipspn/hipsnp/tests/test_data_datalad/DataLad-bgen/example.bgen' failed with exitcode 128 [err: 'Cloning into '/home/oportoles/Documents/MyCode/hipsnp/hipspn/hipsnp/tests/test_data_datalad/DataLad-bgen/example.bgen'...\n",
      "fatal: unable to access 'https://bgen-examples.s3.amazonaws.com/example.bgen/.git/': The requested URL returned error: 403'] [install(/home/oportoles/Documents/MyCode/hipsnp/hipspn/hipsnp/tests/test_data_datalad/DataLad-bgen/example.bgen)] \n"
     ]
    },
    {
     "output_type": "error",
     "ename": "IncompleteResultsError",
     "evalue": "Command did not complete successfully. 1 failed:\n[{'action': 'install',\n  'message': ('Failed to clone from any candidate source URL. Encountered '\n              'errors per each url were:\\n'\n              '- %s',\n              'https://bgen-examples.s3.amazonaws.com/example.bgen\\n'\n              \"  CommandError: 'git -c diff.ignoreSubmodules=none clone \"\n              '--progress https://bgen-examples.s3.amazonaws.com/example.bgen '\n              \"/home/oportoles/Documents/MyCode/hipsnp/hipspn/hipsnp/tests/test_data_datalad/DataLad-bgen/example.bgen' \"\n              \"failed with exitcode 128 [err: 'Cloning into \"\n              \"'/home/oportoles/Documents/MyCode/hipsnp/hipspn/hipsnp/tests/test_data_datalad/DataLad-bgen/example.bgen'...\\n\"\n              'fatal: unable to access '\n              \"'https://bgen-examples.s3.amazonaws.com/example.bgen/': The \"\n              \"requested URL returned error: 403']\\n\"\n              '- https://bgen-examples.s3.amazonaws.com/example.bgen/.git\\n'\n              \"  CommandError: 'git -c diff.ignoreSubmodules=none clone \"\n              '--progress '\n              'https://bgen-examples.s3.amazonaws.com/example.bgen/.git '\n              \"/home/oportoles/Documents/MyCode/hipsnp/hipspn/hipsnp/tests/test_data_datalad/DataLad-bgen/example.bgen' \"\n              \"failed with exitcode 128 [err: 'Cloning into \"\n              \"'/home/oportoles/Documents/MyCode/hipsnp/hipspn/hipsnp/tests/test_data_datalad/DataLad-bgen/example.bgen'...\\n\"\n              'fatal: unable to access '\n              \"'https://bgen-examples.s3.amazonaws.com/example.bgen/.git/': \"\n              \"The requested URL returned error: 403']\"),\n  'path': '/home/oportoles/Documents/MyCode/hipsnp/hipspn/hipsnp/tests/test_data_datalad/DataLad-bgen/example.bgen',\n  'refds': '/home/oportoles/Documents/MyCode/hipsnp/hipspn/hipsnp/tests/test_data_datalad/DataLad-bgen',\n  'source_url': 'https://bgen-examples.s3.amazonaws.com/example.bgen',\n  'status': 'error',\n  'type': 'dataset'}]",
     "traceback": [
      "\u001b[0;31m---------------------------------------------------------------------------\u001b[0m",
      "\u001b[0;31mIncompleteResultsError\u001b[0m                    Traceback (most recent call last)",
      "\u001b[0;32m/tmp/ipykernel_30925/2028053014.py\u001b[0m in \u001b[0;36m<module>\u001b[0;34m\u001b[0m\n\u001b[0;32m----> 1\u001b[0;31m \u001b[0mdl\u001b[0m\u001b[0;34m.\u001b[0m\u001b[0minstall\u001b[0m\u001b[0;34m(\u001b[0m\u001b[0mdataset\u001b[0m\u001b[0;34m=\u001b[0m\u001b[0;34m'./test_data_datalad/DataLad-bgen'\u001b[0m\u001b[0;34m,\u001b[0m\u001b[0mpath\u001b[0m\u001b[0;34m=\u001b[0m\u001b[0;34mf\"{url}/{filename}\"\u001b[0m\u001b[0;34m)\u001b[0m\u001b[0;34m\u001b[0m\u001b[0;34m\u001b[0m\u001b[0m\n\u001b[0m",
      "\u001b[0;32m~/miniconda3/envs/hipsnp/lib/python3.9/site-packages/datalad/interface/utils.py\u001b[0m in \u001b[0;36meval_func\u001b[0;34m(wrapped, instance, args, kwargs)\u001b[0m\n\u001b[1;32m    479\u001b[0m                     \u001b[0;32mreturn\u001b[0m \u001b[0mresults\u001b[0m\u001b[0;34m\u001b[0m\u001b[0;34m\u001b[0m\u001b[0m\n\u001b[1;32m    480\u001b[0m             \u001b[0mlgr\u001b[0m\u001b[0;34m.\u001b[0m\u001b[0mlog\u001b[0m\u001b[0;34m(\u001b[0m\u001b[0;36m2\u001b[0m\u001b[0;34m,\u001b[0m \u001b[0;34m\"Returning return_func from eval_func for %s\"\u001b[0m\u001b[0;34m,\u001b[0m \u001b[0mwrapped_class\u001b[0m\u001b[0;34m)\u001b[0m\u001b[0;34m\u001b[0m\u001b[0;34m\u001b[0m\u001b[0m\n\u001b[0;32m--> 481\u001b[0;31m             \u001b[0;32mreturn\u001b[0m \u001b[0mreturn_func\u001b[0m\u001b[0;34m(\u001b[0m\u001b[0mgenerator_func\u001b[0m\u001b[0;34m)\u001b[0m\u001b[0;34m(\u001b[0m\u001b[0;34m*\u001b[0m\u001b[0margs\u001b[0m\u001b[0;34m,\u001b[0m \u001b[0;34m**\u001b[0m\u001b[0mkwargs\u001b[0m\u001b[0;34m)\u001b[0m\u001b[0;34m\u001b[0m\u001b[0;34m\u001b[0m\u001b[0m\n\u001b[0m\u001b[1;32m    482\u001b[0m \u001b[0;34m\u001b[0m\u001b[0m\n\u001b[1;32m    483\u001b[0m     \u001b[0;32mreturn\u001b[0m \u001b[0meval_func\u001b[0m\u001b[0;34m(\u001b[0m\u001b[0mfunc\u001b[0m\u001b[0;34m)\u001b[0m\u001b[0;34m\u001b[0m\u001b[0;34m\u001b[0m\u001b[0m\n",
      "\u001b[0;32m~/miniconda3/envs/hipsnp/lib/python3.9/site-packages/datalad/interface/utils.py\u001b[0m in \u001b[0;36mreturn_func\u001b[0;34m(wrapped_, instance_, args_, kwargs_)\u001b[0m\n\u001b[1;32m    472\u001b[0m                     \u001b[0;31m# unwind generator if there is one, this actually runs\u001b[0m\u001b[0;34m\u001b[0m\u001b[0;34m\u001b[0m\u001b[0m\n\u001b[1;32m    473\u001b[0m                     \u001b[0;31m# any processing\u001b[0m\u001b[0;34m\u001b[0m\u001b[0;34m\u001b[0m\u001b[0m\n\u001b[0;32m--> 474\u001b[0;31m                     \u001b[0mresults\u001b[0m \u001b[0;34m=\u001b[0m \u001b[0mlist\u001b[0m\u001b[0;34m(\u001b[0m\u001b[0mresults\u001b[0m\u001b[0;34m)\u001b[0m\u001b[0;34m\u001b[0m\u001b[0;34m\u001b[0m\u001b[0m\n\u001b[0m\u001b[1;32m    475\u001b[0m                 \u001b[0;32mif\u001b[0m \u001b[0mreturn_type\u001b[0m \u001b[0;34m==\u001b[0m \u001b[0;34m'item-or-list'\u001b[0m \u001b[0;32mand\u001b[0m\u001b[0;31m \u001b[0m\u001b[0;31m\\\u001b[0m\u001b[0;34m\u001b[0m\u001b[0;34m\u001b[0m\u001b[0m\n\u001b[1;32m    476\u001b[0m                         \u001b[0mlen\u001b[0m\u001b[0;34m(\u001b[0m\u001b[0mresults\u001b[0m\u001b[0;34m)\u001b[0m \u001b[0;34m<\u001b[0m \u001b[0;36m2\u001b[0m\u001b[0;34m:\u001b[0m\u001b[0;34m\u001b[0m\u001b[0;34m\u001b[0m\u001b[0m\n",
      "\u001b[0;32m~/miniconda3/envs/hipsnp/lib/python3.9/site-packages/datalad/interface/utils.py\u001b[0m in \u001b[0;36mgenerator_func\u001b[0;34m(*_args, **_kwargs)\u001b[0m\n\u001b[1;32m    457\u001b[0m \u001b[0;34m\u001b[0m\u001b[0m\n\u001b[1;32m    458\u001b[0m             \u001b[0;32mif\u001b[0m \u001b[0mincomplete_results\u001b[0m\u001b[0;34m:\u001b[0m\u001b[0;34m\u001b[0m\u001b[0;34m\u001b[0m\u001b[0m\n\u001b[0;32m--> 459\u001b[0;31m                 raise IncompleteResultsError(\n\u001b[0m\u001b[1;32m    460\u001b[0m                     \u001b[0mfailed\u001b[0m\u001b[0;34m=\u001b[0m\u001b[0mincomplete_results\u001b[0m\u001b[0;34m,\u001b[0m\u001b[0;34m\u001b[0m\u001b[0;34m\u001b[0m\u001b[0m\n\u001b[1;32m    461\u001b[0m                     msg=\"Command did not complete successfully\")\n",
      "\u001b[0;31mIncompleteResultsError\u001b[0m: Command did not complete successfully. 1 failed:\n[{'action': 'install',\n  'message': ('Failed to clone from any candidate source URL. Encountered '\n              'errors per each url were:\\n'\n              '- %s',\n              'https://bgen-examples.s3.amazonaws.com/example.bgen\\n'\n              \"  CommandError: 'git -c diff.ignoreSubmodules=none clone \"\n              '--progress https://bgen-examples.s3.amazonaws.com/example.bgen '\n              \"/home/oportoles/Documents/MyCode/hipsnp/hipspn/hipsnp/tests/test_data_datalad/DataLad-bgen/example.bgen' \"\n              \"failed with exitcode 128 [err: 'Cloning into \"\n              \"'/home/oportoles/Documents/MyCode/hipsnp/hipspn/hipsnp/tests/test_data_datalad/DataLad-bgen/example.bgen'...\\n\"\n              'fatal: unable to access '\n              \"'https://bgen-examples.s3.amazonaws.com/example.bgen/': The \"\n              \"requested URL returned error: 403']\\n\"\n              '- https://bgen-examples.s3.amazonaws.com/example.bgen/.git\\n'\n              \"  CommandError: 'git -c diff.ignoreSubmodules=none clone \"\n              '--progress '\n              'https://bgen-examples.s3.amazonaws.com/example.bgen/.git '\n              \"/home/oportoles/Documents/MyCode/hipsnp/hipspn/hipsnp/tests/test_data_datalad/DataLad-bgen/example.bgen' \"\n              \"failed with exitcode 128 [err: 'Cloning into \"\n              \"'/home/oportoles/Documents/MyCode/hipsnp/hipspn/hipsnp/tests/test_data_datalad/DataLad-bgen/example.bgen'...\\n\"\n              'fatal: unable to access '\n              \"'https://bgen-examples.s3.amazonaws.com/example.bgen/.git/': \"\n              \"The requested URL returned error: 403']\"),\n  'path': '/home/oportoles/Documents/MyCode/hipsnp/hipspn/hipsnp/tests/test_data_datalad/DataLad-bgen/example.bgen',\n  'refds': '/home/oportoles/Documents/MyCode/hipsnp/hipspn/hipsnp/tests/test_data_datalad/DataLad-bgen',\n  'source_url': 'https://bgen-examples.s3.amazonaws.com/example.bgen',\n  'status': 'error',\n  'type': 'dataset'}]"
     ]
    }
   ],
   "metadata": {}
  },
  {
   "cell_type": "markdown",
   "source": [
    "### Get example data from GIN"
   ],
   "metadata": {}
  },
  {
   "cell_type": "code",
   "execution_count": 22,
   "source": [
    "source = 'git@gin.g-node.org:/juaml/datalad-example-bgen'\n",
    "path = '/home/oportoles/Documents/MyCode/hipsnp/test_data/'\n",
    "dataL = dl.clone(source=source, path=path)\n"
   ],
   "outputs": [
    {
     "output_type": "stream",
     "name": "stderr",
     "text": [
      "[INFO] Cloning dataset to Dataset(/home/oportoles/Documents/MyCode/hipsnp/test_data) \n",
      "[INFO] Attempting to clone from git@gin.g-node.org:/juaml/datalad-example-bgen to /home/oportoles/Documents/MyCode/hipsnp/test_data \n",
      "[INFO] Start enumerating objects \n",
      "[INFO] Start counting objects \n",
      "[INFO] Start compressing objects \n",
      "[INFO] Start receiving objects \n",
      "[INFO] Start resolving deltas \n",
      "[INFO] Completed clone attempts for Dataset(/home/oportoles/Documents/MyCode/hipsnp/test_data) \n",
      "[INFO] access to 1 dataset sibling github-lfs not auto-enabled, enable with:\n",
      "| \t\tdatalad siblings -d \"/home/oportoles/Documents/MyCode/hipsnp/test_data\" enable -s github-lfs \n"
     ]
    }
   ],
   "metadata": {}
  },
  {
   "cell_type": "code",
   "execution_count": 23,
   "source": [
    "type(dataL) == dl.Dataset"
   ],
   "outputs": [
    {
     "output_type": "execute_result",
     "data": {
      "text/plain": [
       "True"
      ]
     },
     "metadata": {},
     "execution_count": 23
    }
   ],
   "metadata": {}
  },
  {
   "cell_type": "code",
   "execution_count": 24,
   "source": [
    "outGet = dataL.get(path+'imputation/')"
   ],
   "outputs": [],
   "metadata": {}
  },
  {
   "cell_type": "code",
   "execution_count": 40,
   "source": [
    "filenames = [os.path.basename(ind['path']) for ind in outGet if ind['type'] == 'file']\n",
    "print(filenames)"
   ],
   "outputs": [
    {
     "output_type": "stream",
     "name": "stdout",
     "text": [
      "['example_c1_v0.bgen', 'example_c1_v0.sample']\n"
     ]
    }
   ],
   "metadata": {}
  },
  {
   "cell_type": "code",
   "execution_count": 43,
   "source": [
    "'example_c1_v0.bgen' and 'example_c1_v0.sample' in filenames"
   ],
   "outputs": [
    {
     "output_type": "execute_result",
     "data": {
      "text/plain": [
       "True"
      ]
     },
     "metadata": {},
     "execution_count": 43
    }
   ],
   "metadata": {}
  },
  {
   "cell_type": "code",
   "execution_count": 34,
   "source": [
    "outGet"
   ],
   "outputs": [
    {
     "output_type": "execute_result",
     "data": {
      "text/plain": [
       "[{'type': 'file',\n",
       "  'refds': '/home/oportoles/Documents/MyCode/hipsnp/test_data',\n",
       "  'status': 'ok',\n",
       "  'path': '/home/oportoles/Documents/MyCode/hipsnp/test_data/imputation/example_c1_v0.bgen',\n",
       "  'action': 'get',\n",
       "  'annexkey': 'MD5E-s665108--b8d324a100ce3910ef359da0bd903398.bgen',\n",
       "  'message': 'from origin...'},\n",
       " {'type': 'file',\n",
       "  'refds': '/home/oportoles/Documents/MyCode/hipsnp/test_data',\n",
       "  'status': 'ok',\n",
       "  'path': '/home/oportoles/Documents/MyCode/hipsnp/test_data/imputation/example_c1_v0.sample',\n",
       "  'action': 'get',\n",
       "  'annexkey': 'MD5E-s5505--8809221321595c78a241d96313d0d01c',\n",
       "  'message': 'from origin...'},\n",
       " {'action': 'get',\n",
       "  'path': '/home/oportoles/Documents/MyCode/hipsnp/test_data/imputation',\n",
       "  'type': 'directory',\n",
       "  'refds': '/home/oportoles/Documents/MyCode/hipsnp/test_data',\n",
       "  'status': 'ok'}]"
      ]
     },
     "metadata": {},
     "execution_count": 34
    }
   ],
   "metadata": {}
  },
  {
   "cell_type": "code",
   "execution_count": 27,
   "source": [
    "dataL.is_installed()"
   ],
   "outputs": [
    {
     "output_type": "execute_result",
     "data": {
      "text/plain": [
       "True"
      ]
     },
     "metadata": {},
     "execution_count": 27
    }
   ],
   "metadata": {}
  },
  {
   "cell_type": "code",
   "execution_count": 20,
   "source": [
    "dl.remove(dataset=path, recursive=True)"
   ],
   "outputs": [
    {
     "output_type": "execute_result",
     "data": {
      "text/plain": [
       "[{'type': 'file',\n",
       "  'status': 'ok',\n",
       "  'path': '/home/oportoles/Documents/MyCode/hipsnp/test_data/imputation/example_c1_v0.bgen',\n",
       "  'action': 'drop',\n",
       "  'annexkey': 'MD5E-s665108--b8d324a100ce3910ef359da0bd903398.bgen',\n",
       "  'message': 'locking origin...',\n",
       "  'refds': '/home/oportoles/Documents/MyCode/hipsnp/test_data'},\n",
       " {'type': 'file',\n",
       "  'status': 'ok',\n",
       "  'path': '/home/oportoles/Documents/MyCode/hipsnp/test_data/imputation/example_c1_v0.sample',\n",
       "  'action': 'drop',\n",
       "  'annexkey': 'MD5E-s5505--8809221321595c78a241d96313d0d01c',\n",
       "  'message': 'locking origin...',\n",
       "  'refds': '/home/oportoles/Documents/MyCode/hipsnp/test_data'},\n",
       " {'action': 'drop',\n",
       "  'path': '/home/oportoles/Documents/MyCode/hipsnp/test_data',\n",
       "  'type': 'directory',\n",
       "  'refds': '/home/oportoles/Documents/MyCode/hipsnp/test_data',\n",
       "  'status': 'ok'},\n",
       " {'action': 'remove',\n",
       "  'path': '/home/oportoles/Documents/MyCode/hipsnp/test_data',\n",
       "  'type': 'dataset',\n",
       "  'refds': '/home/oportoles/Documents/MyCode/hipsnp/test_data',\n",
       "  'status': 'ok'}]"
      ]
     },
     "metadata": {},
     "execution_count": 20
    }
   ],
   "metadata": {}
  },
  {
   "cell_type": "code",
   "execution_count": 7,
   "source": [
    "type(outGet[0])"
   ],
   "outputs": [
    {
     "output_type": "error",
     "ename": "IndexError",
     "evalue": "list index out of range",
     "traceback": [
      "\u001b[0;31m---------------------------------------------------------------------------\u001b[0m",
      "\u001b[0;31mIndexError\u001b[0m                                Traceback (most recent call last)",
      "\u001b[0;32m/tmp/ipykernel_47239/984208379.py\u001b[0m in \u001b[0;36m<module>\u001b[0;34m\u001b[0m\n\u001b[0;32m----> 1\u001b[0;31m \u001b[0mtype\u001b[0m\u001b[0;34m(\u001b[0m\u001b[0moutGet\u001b[0m\u001b[0;34m[\u001b[0m\u001b[0;36m0\u001b[0m\u001b[0;34m]\u001b[0m\u001b[0;34m)\u001b[0m\u001b[0;34m\u001b[0m\u001b[0;34m\u001b[0m\u001b[0m\n\u001b[0m",
      "\u001b[0;31mIndexError\u001b[0m: list index out of range"
     ]
    }
   ],
   "metadata": {}
  },
  {
   "cell_type": "code",
   "execution_count": 44,
   "source": [
    "dataL.remove()"
   ],
   "outputs": [
    {
     "output_type": "execute_result",
     "data": {
      "text/plain": [
       "[{'type': 'file',\n",
       "  'status': 'ok',\n",
       "  'path': '/home/oportoles/Documents/MyCode/hipsnp/test_data/imputation/example_c1_v0.bgen',\n",
       "  'action': 'drop',\n",
       "  'annexkey': 'MD5E-s665108--b8d324a100ce3910ef359da0bd903398.bgen',\n",
       "  'message': 'locking origin...',\n",
       "  'refds': '/home/oportoles/Documents/MyCode/hipsnp/test_data'},\n",
       " {'type': 'file',\n",
       "  'status': 'ok',\n",
       "  'path': '/home/oportoles/Documents/MyCode/hipsnp/test_data/imputation/example_c1_v0.sample',\n",
       "  'action': 'drop',\n",
       "  'annexkey': 'MD5E-s5505--8809221321595c78a241d96313d0d01c',\n",
       "  'message': 'locking origin...',\n",
       "  'refds': '/home/oportoles/Documents/MyCode/hipsnp/test_data'},\n",
       " {'action': 'drop',\n",
       "  'path': '/home/oportoles/Documents/MyCode/hipsnp/test_data',\n",
       "  'type': 'directory',\n",
       "  'refds': '/home/oportoles/Documents/MyCode/hipsnp/test_data',\n",
       "  'status': 'ok'},\n",
       " {'action': 'remove',\n",
       "  'path': '/home/oportoles/Documents/MyCode/hipsnp/test_data',\n",
       "  'type': 'dataset',\n",
       "  'refds': '/home/oportoles/Documents/MyCode/hipsnp/test_data',\n",
       "  'status': 'ok'}]"
      ]
     },
     "metadata": {},
     "execution_count": 44
    }
   ],
   "metadata": {}
  },
  {
   "cell_type": "code",
   "execution_count": 6,
   "source": [
    "dl.remove(path='/tmp/genetic/', dataset='/tmp/genetic', recursive=True, check=False)"
   ],
   "outputs": [
    {
     "output_type": "execute_result",
     "data": {
      "text/plain": [
       "[{'action': 'remove',\n",
       "  'path': '/tmp/genetic',\n",
       "  'type': 'dataset',\n",
       "  'refds': '/tmp/genetic',\n",
       "  'status': 'ok'}]"
      ]
     },
     "metadata": {},
     "execution_count": 6
    }
   ],
   "metadata": {}
  },
  {
   "cell_type": "markdown",
   "source": [
    "## find qctool\n"
   ],
   "metadata": {}
  },
  {
   "cell_type": "code",
   "execution_count": 45,
   "source": [
    "import os\n",
    "import shutil"
   ],
   "outputs": [],
   "metadata": {}
  },
  {
   "cell_type": "code",
   "execution_count": 59,
   "source": [
    "print(shutil.which('qctool'))\n",
    "print(os.path.isfile('/home/oportoles/Apps/qctool_v2.0.6-Ubuntu16.04-x86_64'))\n",
    "print(os.path.isfile('qctool'))\n",
    "print(os.path.isfile('/home/oportoles/Apps/qctool_v2.0.6-Ubuntu16.04-x86_64/qctool'))\n",
    "print(os.path.isdir('/home/oportoles/Apps/qctool_v2.0.6-Ubuntu16.04-x86_64'))\n"
   ],
   "outputs": [
    {
     "output_type": "stream",
     "name": "stdout",
     "text": [
      "None\n",
      "False\n",
      "False\n",
      "True\n",
      "True\n"
     ]
    }
   ],
   "metadata": {}
  },
  {
   "cell_type": "code",
   "execution_count": 35,
   "source": [
    "import glob\n",
    "\n",
    "glob.glob(path)"
   ],
   "outputs": [
    {
     "output_type": "execute_result",
     "data": {
      "text/plain": [
       "['/home/oportoles/Documents/MyCode/hipsnp/test_data']"
      ]
     },
     "metadata": {},
     "execution_count": 35
    }
   ],
   "metadata": {}
  },
  {
   "cell_type": "markdown",
   "source": [
    "## Pandas test"
   ],
   "metadata": {}
  },
  {
   "cell_type": "code",
   "execution_count": 3,
   "source": [
    "import pandas as pd\n",
    "import numpy as np\n",
    "\n",
    "pdData = pd.DataFrame(np.ones((10,5)))"
   ],
   "outputs": [],
   "metadata": {}
  },
  {
   "cell_type": "code",
   "execution_count": 37,
   "source": [
    "type(pdData)"
   ],
   "outputs": [
    {
     "output_type": "execute_result",
     "data": {
      "text/plain": [
       "pandas.core.frame.DataFrame"
      ]
     },
     "metadata": {},
     "execution_count": 37
    }
   ],
   "metadata": {}
  },
  {
   "cell_type": "code",
   "execution_count": 41,
   "source": [
    "isinstance(pdData, pd.core.frame.DataFrame)"
   ],
   "outputs": [
    {
     "output_type": "execute_result",
     "data": {
      "text/plain": [
       "True"
      ]
     },
     "metadata": {},
     "execution_count": 41
    }
   ],
   "metadata": {}
  },
  {
   "cell_type": "code",
   "execution_count": 30,
   "source": [
    "pdDataCol = pd.DataFrame({'col1': ['a', 'aa'], 'col2': ['b', 'bb']})\n",
    "# pdDataCol.dtypes"
   ],
   "outputs": [],
   "metadata": {}
  },
  {
   "cell_type": "code",
   "execution_count": 5,
   "source": [
    "isinstance(pdDataCol['col1'][0],str)"
   ],
   "outputs": [
    {
     "output_type": "execute_result",
     "data": {
      "text/plain": [
       "True"
      ]
     },
     "metadata": {},
     "execution_count": 5
    }
   ],
   "metadata": {}
  },
  {
   "cell_type": "code",
   "execution_count": 15,
   "source": [
    "pdDataCol['col1'].iloc[0]"
   ],
   "outputs": [
    {
     "output_type": "execute_result",
     "data": {
      "text/plain": [
       "'a'"
      ]
     },
     "metadata": {},
     "execution_count": 15
    }
   ],
   "metadata": {}
  },
  {
   "cell_type": "code",
   "execution_count": 28,
   "source": [
    "fields = [a for a in pdDataCol.columns]\n",
    "print(fields)\n",
    "fields.sort() == ['col2','col1'].sort()"
   ],
   "outputs": [
    {
     "output_type": "stream",
     "name": "stdout",
     "text": [
      "['col1', 'col2']\n"
     ]
    },
    {
     "output_type": "execute_result",
     "data": {
      "text/plain": [
       "True"
      ]
     },
     "metadata": {},
     "execution_count": 28
    }
   ],
   "metadata": {}
  },
  {
   "cell_type": "code",
   "execution_count": 26,
   "source": [
    "pdDataCol['col1'].ndim"
   ],
   "outputs": [
    {
     "output_type": "execute_result",
     "data": {
      "text/plain": [
       "0     a\n",
       "1    aa\n",
       "Name: col1, dtype: object"
      ]
     },
     "metadata": {},
     "execution_count": 26
    }
   ],
   "metadata": {}
  },
  {
   "cell_type": "code",
   "execution_count": 1,
   "source": [
    "from requests.api import request\n",
    "from requests.models import Response\n"
   ],
   "outputs": [],
   "metadata": {}
  },
  {
   "cell_type": "code",
   "execution_count": 8,
   "source": [
    "print(os.pardir)"
   ],
   "outputs": [
    {
     "output_type": "stream",
     "name": "stdout",
     "text": [
      "..\n"
     ]
    }
   ],
   "metadata": {}
  },
  {
   "cell_type": "code",
   "execution_count": 10,
   "source": [
    "import numpy as np"
   ],
   "outputs": [],
   "metadata": {}
  },
  {
   "cell_type": "code",
   "execution_count": 14,
   "source": [
    "data = np.load('/home/oportoles/Documents/MyCode/hipsnp/test_data/output_rsi2snp.npz',allow_pickle=True)\n",
    "ch_rs = data['ch_rs']\n",
    "\n",
    "files = data['files']\n",
    "# dataL = data['dataL']\n"
   ],
   "outputs": [],
   "metadata": {}
  },
  {
   "cell_type": "code",
   "execution_count": 19,
   "source": [
    "import pandas as pd"
   ],
   "outputs": [],
   "metadata": {}
  },
  {
   "cell_type": "code",
   "execution_count": 20,
   "source": [
    "pathMock = '/home/oportoles/Documents/MyCode/hipsnp/test_data/weights.csv'\n",
    "\n",
    "weights = pd.read_csv(pathMock, sep='\\t', comment='#')\n"
   ],
   "outputs": [],
   "metadata": {}
  },
  {
   "cell_type": "code",
   "execution_count": 22,
   "source": [
    "weights['rsID']"
   ],
   "outputs": [
    {
     "output_type": "execute_result",
     "data": {
      "text/plain": [
       "0    RSID_2\n",
       "1    RSID_3\n",
       "2    RSID_5\n",
       "3    RSID_6\n",
       "Name: rsID, dtype: object"
      ]
     },
     "metadata": {},
     "execution_count": 22
    }
   ],
   "metadata": {}
  },
  {
   "cell_type": "code",
   "execution_count": 24,
   "source": [
    "print(weights.index)"
   ],
   "outputs": [
    {
     "output_type": "stream",
     "name": "stdout",
     "text": [
      "RangeIndex(start=0, stop=4, step=1)\n"
     ]
    }
   ],
   "metadata": {}
  }
 ],
 "metadata": {
  "interpreter": {
   "hash": "2b1aa8931297af81b57c68f51b10f2c6d8e745e0e88872623576bd4c403c5778"
  },
  "kernelspec": {
   "name": "python3",
   "display_name": "Python 3.9.7 64-bit ('hipsnp': conda)"
  },
  "language_info": {
   "codemirror_mode": {
    "name": "ipython",
    "version": 3
   },
   "file_extension": ".py",
   "mimetype": "text/x-python",
   "name": "python",
   "nbconvert_exporter": "python",
   "pygments_lexer": "ipython3",
   "version": "3.9.7"
  }
 },
 "nbformat": 4,
 "nbformat_minor": 2
}