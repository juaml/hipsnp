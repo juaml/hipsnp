{
 "cells": [
  {
   "cell_type": "markdown",
   "metadata": {},
   "source": [
    "This example show how to obtain the genotypes set of rsids \n",
    "contained in a remote repositiory"
   ]
  },
  {
   "cell_type": "code",
   "execution_count": 2,
   "metadata": {},
   "outputs": [],
   "source": [
    "# nest_asyncio prevents error due to Datalad RuntimeError: Cannot run the event loop while another loop is running\n",
    "import nest_asyncio\n",
    "nest_asyncio.apply()\n",
    "\n",
    "import hipsnp as hps\n",
    "import datalad.api as dl"
   ]
  },
  {
   "cell_type": "code",
   "execution_count": null,
   "metadata": {},
   "outputs": [],
   "source": [
    "source = 'git@gin.g-node.org:/juaml/datalad-example-bgen'\n",
    "rsids = ['RSID_2', 'RSID_3', 'RSID_5', 'RSID_6', 'RSID_7']\n",
    "chromosomes = ['1']\n",
    "qctool = '/home/oportoles/Apps/qctool_v2.0.6-Ubuntu16.04-x86_64/qctool'\n",
    "path_to_save_bgen = '/tmp/hipsnp/example1/'\n",
    "\n",
    "\n",
    "rsid_chromo, bgen_files, datalad_DataSet = hps.pruned_bgen_from_Datalad(rsids,\n",
    "                                                            outdir=path_to_save_bgen,\n",
    "                                                            datalad_source=source,\n",
    "                                                            qctool=qctool,\n",
    "                                                            data_dir=path_to_save_bgen,\n",
    "                                                            chromosomes=chromosomes,\n",
    "                                                            )\n",
    "\n",
    "gen = hps.from_bgen()\n",
    "\n",
    "g_allele, g_012 = gen.snp2genotype(weights=path_w)"
   ]
  },
  {
   "cell_type": "markdown",
   "metadata": {},
   "source": [
    "Example 1A. From obtain the gentype, risk score, and dosage from a .bgen file in\n",
    "as a remote Datalad Dataset"
   ]
  },
  {
   "cell_type": "code",
   "execution_count": 3,
   "metadata": {},
   "outputs": [
    {
     "name": "stderr",
     "output_type": "stream",
     "text": [
      "[INFO] Cloning dataset to Dataset(/tmp/hipsnp/example1A) \n",
      "[INFO] Attempting to clone from git@gin.g-node.org:/juaml/datalad-example-bgen to /tmp/hipsnp/example1A \n",
      "[INFO] Start enumerating objects \n",
      "[INFO] Start counting objects \n",
      "[INFO] Start compressing objects \n",
      "[INFO] Start receiving objects \n",
      "[INFO] Start resolving deltas \n",
      "[INFO] Completed clone attempts for Dataset(/tmp/hipsnp/example1A) \n",
      "[INFO] access to 1 dataset sibling github-lfs not auto-enabled, enable with:\n",
      "| \t\tdatalad siblings -d \"/tmp/hipsnp/example1A\" enable -s github-lfs \n"
     ]
    }
   ],
   "source": [
    "# Obtain .bgen file from a remote source\n",
    "dl_source = 'git@gin.g-node.org:/juaml/datalad-example-bgen'  # exmaple data\n",
    "path_to_save_bgen = '/tmp/hipsnp/example1A/'\n",
    "\n",
    "dataset = dl.clone(source=dl_source, path=path_to_save_bgen)\n",
    "dataset.get()\n",
    "bgenfile = path_to_save_bgen + 'imputation/example_c1_v0.bgen'"
   ]
  },
  {
   "cell_type": "code",
   "execution_count": 4,
   "metadata": {},
   "outputs": [],
   "source": [
    "# obtain allele\n",
    "\n",
    "gen = hps.Genotype.from_bgen(files=bgenfile)\n",
    "\n",
    "gen_allele, gen_012 = gen.alleles()()\n",
    "\n",
    "# TODO: rename: rsid_to_genotype -> allelel\n",
    "# TODO: rename: rsid_to_riskscore -> riskscore\n",
    "# TODO: add mock weights to GIN to use"
   ]
  },
  {
   "cell_type": "code",
   "execution_count": 5,
   "metadata": {},
   "outputs": [],
   "source": [
    "# Obtain poligenetic risk score. To get the risk score we need the weights to the ...\n",
    "\n",
    "path_to_weights = './data/weights_all.csv'\n",
    "dosage, risk = gen.riskscore(weights=path_to_weights)\n"
   ]
  },
  {
   "cell_type": "code",
   "execution_count": 7,
   "metadata": {},
   "outputs": [],
   "source": [
    "# To only obtain the weiths\n",
    "\n",
    "weights = hps.read_weights(path_to_weights)"
   ]
  },
  {
   "cell_type": "code",
   "execution_count": 25,
   "metadata": {},
   "outputs": [],
   "source": [
    "# if we are interested on the allele and risk score of only a few rsids or samples\n",
    "\n",
    "rsids_of_interest = ['RSID_2', 'RSID_5', 'RSID_6', 'RSID_7']\n",
    "samples_of_interest = ['sample_001', 'sample_002', 'sample_003', 'sample_004']\n",
    "\n",
    "\n",
    "gen_allele_f, gen_012_f = gen.alleles(rsids=rsids_of_interest,\n",
    "                                               samples=samples_of_interest)\n",
    "\n",
    "dosage_f, risk_f = gen.riskscore(rsids=rsids_of_interest,\n",
    "                                         samples=samples_of_interest,\n",
    "                                         weights=path_to_weights)\n"
   ]
  },
  {
   "cell_type": "markdown",
   "metadata": {},
   "source": [
    "Example 1B See a PGS file with weights"
   ]
  },
  {
   "cell_type": "code",
   "execution_count": 30,
   "metadata": {},
   "outputs": [],
   "source": [
    "path_to_PGS = '/home/oportoles/Documents/MyCode/hipsnp/test_data/weights_PGS000001.txt'\n",
    "\n",
    "pgs_w = hps.read_weights(path_to_PGS)"
   ]
  },
  {
   "cell_type": "code",
   "execution_count": 31,
   "metadata": {},
   "outputs": [
    {
     "data": {
      "text/html": [
       "<div>\n",
       "<style scoped>\n",
       "    .dataframe tbody tr th:only-of-type {\n",
       "        vertical-align: middle;\n",
       "    }\n",
       "\n",
       "    .dataframe tbody tr th {\n",
       "        vertical-align: top;\n",
       "    }\n",
       "\n",
       "    .dataframe thead th {\n",
       "        text-align: right;\n",
       "    }\n",
       "</style>\n",
       "<table border=\"1\" class=\"dataframe\">\n",
       "  <thead>\n",
       "    <tr style=\"text-align: right;\">\n",
       "      <th></th>\n",
       "      <th>chr</th>\n",
       "      <th>ea</th>\n",
       "      <th>reference_allele</th>\n",
       "      <th>weight</th>\n",
       "      <th>locus_name</th>\n",
       "      <th>or</th>\n",
       "    </tr>\n",
       "    <tr>\n",
       "      <th>rsid</th>\n",
       "      <th></th>\n",
       "      <th></th>\n",
       "      <th></th>\n",
       "      <th></th>\n",
       "      <th></th>\n",
       "      <th></th>\n",
       "    </tr>\n",
       "  </thead>\n",
       "  <tbody>\n",
       "    <tr>\n",
       "      <th>rs78540526</th>\n",
       "      <td>11</td>\n",
       "      <td>T</td>\n",
       "      <td>C</td>\n",
       "      <td>0.162204</td>\n",
       "      <td>CCND1</td>\n",
       "      <td>1.1761</td>\n",
       "    </tr>\n",
       "    <tr>\n",
       "      <th>rs75915166</th>\n",
       "      <td>11</td>\n",
       "      <td>A</td>\n",
       "      <td>C</td>\n",
       "      <td>0.023619</td>\n",
       "      <td>CCND1</td>\n",
       "      <td>1.0239</td>\n",
       "    </tr>\n",
       "    <tr>\n",
       "      <th>rs554219</th>\n",
       "      <td>11</td>\n",
       "      <td>G</td>\n",
       "      <td>C</td>\n",
       "      <td>0.116716</td>\n",
       "      <td>CCND1</td>\n",
       "      <td>1.1238</td>\n",
       "    </tr>\n",
       "    <tr>\n",
       "      <th>rs7726159</th>\n",
       "      <td>5</td>\n",
       "      <td>A</td>\n",
       "      <td>C</td>\n",
       "      <td>0.035271</td>\n",
       "      <td>TERT</td>\n",
       "      <td>1.0359</td>\n",
       "    </tr>\n",
       "    <tr>\n",
       "      <th>rs10069690</th>\n",
       "      <td>5</td>\n",
       "      <td>T</td>\n",
       "      <td>C</td>\n",
       "      <td>0.023912</td>\n",
       "      <td>TERT</td>\n",
       "      <td>1.0242</td>\n",
       "    </tr>\n",
       "    <tr>\n",
       "      <th>...</th>\n",
       "      <td>...</td>\n",
       "      <td>...</td>\n",
       "      <td>...</td>\n",
       "      <td>...</td>\n",
       "      <td>...</td>\n",
       "      <td>...</td>\n",
       "    </tr>\n",
       "    <tr>\n",
       "      <th>rs6001930</th>\n",
       "      <td>22</td>\n",
       "      <td>C</td>\n",
       "      <td>T</td>\n",
       "      <td>0.126192</td>\n",
       "      <td>MKL1</td>\n",
       "      <td>1.1345</td>\n",
       "    </tr>\n",
       "    <tr>\n",
       "      <th>rs4245739</th>\n",
       "      <td>1</td>\n",
       "      <td>C</td>\n",
       "      <td>A</td>\n",
       "      <td>0.028685</td>\n",
       "      <td>MDM4</td>\n",
       "      <td>1.0291</td>\n",
       "    </tr>\n",
       "    <tr>\n",
       "      <th>rs6678914</th>\n",
       "      <td>1</td>\n",
       "      <td>A</td>\n",
       "      <td>G</td>\n",
       "      <td>-0.011061</td>\n",
       "      <td>LGR6</td>\n",
       "      <td>0.9890</td>\n",
       "    </tr>\n",
       "    <tr>\n",
       "      <th>rs12710696</th>\n",
       "      <td>2</td>\n",
       "      <td>A</td>\n",
       "      <td>G</td>\n",
       "      <td>0.037970</td>\n",
       "      <td>2p24.1</td>\n",
       "      <td>1.0387</td>\n",
       "    </tr>\n",
       "    <tr>\n",
       "      <th>rs11075995</th>\n",
       "      <td>16</td>\n",
       "      <td>T</td>\n",
       "      <td>A</td>\n",
       "      <td>0.036139</td>\n",
       "      <td>FTO</td>\n",
       "      <td>1.0368</td>\n",
       "    </tr>\n",
       "  </tbody>\n",
       "</table>\n",
       "<p>77 rows × 6 columns</p>\n",
       "</div>"
      ],
      "text/plain": [
       "            chr ea reference_allele    weight locus_name      or\n",
       "rsid                                                            \n",
       "rs78540526   11  T                C  0.162204      CCND1  1.1761\n",
       "rs75915166   11  A                C  0.023619      CCND1  1.0239\n",
       "rs554219     11  G                C  0.116716      CCND1  1.1238\n",
       "rs7726159     5  A                C  0.035271       TERT  1.0359\n",
       "rs10069690    5  T                C  0.023912       TERT  1.0242\n",
       "...         ... ..              ...       ...        ...     ...\n",
       "rs6001930    22  C                T  0.126192       MKL1  1.1345\n",
       "rs4245739     1  C                A  0.028685       MDM4  1.0291\n",
       "rs6678914     1  A                G -0.011061       LGR6  0.9890\n",
       "rs12710696    2  A                G  0.037970     2p24.1  1.0387\n",
       "rs11075995   16  T                A  0.036139        FTO  1.0368\n",
       "\n",
       "[77 rows x 6 columns]"
      ]
     },
     "execution_count": 31,
     "metadata": {},
     "output_type": "execute_result"
    }
   ],
   "source": [
    "pgs_w"
   ]
  },
  {
   "cell_type": "code",
   "execution_count": 28,
   "metadata": {},
   "outputs": [
    {
     "data": {
      "text/html": [
       "<div>\n",
       "<style scoped>\n",
       "    .dataframe tbody tr th:only-of-type {\n",
       "        vertical-align: middle;\n",
       "    }\n",
       "\n",
       "    .dataframe tbody tr th {\n",
       "        vertical-align: top;\n",
       "    }\n",
       "\n",
       "    .dataframe thead th {\n",
       "        text-align: right;\n",
       "    }\n",
       "</style>\n",
       "<table border=\"1\" class=\"dataframe\">\n",
       "  <thead>\n",
       "    <tr style=\"text-align: right;\">\n",
       "      <th></th>\n",
       "      <th>sample_001</th>\n",
       "      <th>sample_002</th>\n",
       "      <th>sample_003</th>\n",
       "      <th>sample_004</th>\n",
       "    </tr>\n",
       "  </thead>\n",
       "  <tbody>\n",
       "    <tr>\n",
       "      <th>RSID_2</th>\n",
       "      <td>AA</td>\n",
       "      <td>GG</td>\n",
       "      <td>GG</td>\n",
       "      <td>AG</td>\n",
       "    </tr>\n",
       "    <tr>\n",
       "      <th>RSID_5</th>\n",
       "      <td>GG</td>\n",
       "      <td>AA</td>\n",
       "      <td>AA</td>\n",
       "      <td>AG</td>\n",
       "    </tr>\n",
       "    <tr>\n",
       "      <th>RSID_6</th>\n",
       "      <td>AG</td>\n",
       "      <td>AA</td>\n",
       "      <td>AA</td>\n",
       "      <td>AA</td>\n",
       "    </tr>\n",
       "    <tr>\n",
       "      <th>RSID_7</th>\n",
       "      <td>AA</td>\n",
       "      <td>AG</td>\n",
       "      <td>AG</td>\n",
       "      <td>AG</td>\n",
       "    </tr>\n",
       "  </tbody>\n",
       "</table>\n",
       "</div>"
      ],
      "text/plain": [
       "       sample_001 sample_002 sample_003 sample_004\n",
       "RSID_2         AA         GG         GG         AG\n",
       "RSID_5         GG         AA         AA         AG\n",
       "RSID_6         AG         AA         AA         AA\n",
       "RSID_7         AA         AG         AG         AG"
      ]
     },
     "execution_count": 28,
     "metadata": {},
     "output_type": "execute_result"
    }
   ],
   "source": [
    "gen_allele_f"
   ]
  },
  {
   "cell_type": "code",
   "execution_count": 29,
   "metadata": {},
   "outputs": [
    {
     "data": {
      "text/html": [
       "<div>\n",
       "<style scoped>\n",
       "    .dataframe tbody tr th:only-of-type {\n",
       "        vertical-align: middle;\n",
       "    }\n",
       "\n",
       "    .dataframe tbody tr th {\n",
       "        vertical-align: top;\n",
       "    }\n",
       "\n",
       "    .dataframe thead th {\n",
       "        text-align: right;\n",
       "    }\n",
       "</style>\n",
       "<table border=\"1\" class=\"dataframe\">\n",
       "  <thead>\n",
       "    <tr style=\"text-align: right;\">\n",
       "      <th></th>\n",
       "      <th>sample_001</th>\n",
       "      <th>sample_002</th>\n",
       "      <th>sample_003</th>\n",
       "      <th>sample_004</th>\n",
       "    </tr>\n",
       "  </thead>\n",
       "  <tbody>\n",
       "    <tr>\n",
       "      <th>RSID_2</th>\n",
       "      <td>0</td>\n",
       "      <td>2</td>\n",
       "      <td>2</td>\n",
       "      <td>1</td>\n",
       "    </tr>\n",
       "    <tr>\n",
       "      <th>RSID_5</th>\n",
       "      <td>2</td>\n",
       "      <td>0</td>\n",
       "      <td>0</td>\n",
       "      <td>1</td>\n",
       "    </tr>\n",
       "    <tr>\n",
       "      <th>RSID_6</th>\n",
       "      <td>1</td>\n",
       "      <td>0</td>\n",
       "      <td>0</td>\n",
       "      <td>0</td>\n",
       "    </tr>\n",
       "    <tr>\n",
       "      <th>RSID_7</th>\n",
       "      <td>0</td>\n",
       "      <td>1</td>\n",
       "      <td>1</td>\n",
       "      <td>1</td>\n",
       "    </tr>\n",
       "  </tbody>\n",
       "</table>\n",
       "</div>"
      ],
      "text/plain": [
       "        sample_001  sample_002  sample_003  sample_004\n",
       "RSID_2           0           2           2           1\n",
       "RSID_5           2           0           0           1\n",
       "RSID_6           1           0           0           0\n",
       "RSID_7           0           1           1           1"
      ]
     },
     "execution_count": 29,
     "metadata": {},
     "output_type": "execute_result"
    }
   ],
   "source": [
    "gen_012_f"
   ]
  }
 ],
 "metadata": {
  "interpreter": {
   "hash": "976bcc3b65e675a22bd65302b864031b3d9055c0feaf2f49bd1ddcdaa3f4f1e8"
  },
  "kernelspec": {
   "display_name": "Python 3.9.7 64-bit ('hipsnp': conda)",
   "language": "python",
   "name": "python3"
  },
  "language_info": {
   "codemirror_mode": {
    "name": "ipython",
    "version": 3
   },
   "file_extension": ".py",
   "mimetype": "text/x-python",
   "name": "python",
   "nbconvert_exporter": "python",
   "pygments_lexer": "ipython3",
   "version": "3.9.7"
  },
  "orig_nbformat": 4
 },
 "nbformat": 4,
 "nbformat_minor": 2
}
