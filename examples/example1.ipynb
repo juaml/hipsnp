{
 "cells": [
  {
   "cell_type": "markdown",
   "metadata": {},
   "source": [
    "This example show how to obtain the genotypes set of rsids \n",
    "contained in a remote repositiory"
   ]
  },
  {
   "cell_type": "code",
   "execution_count": 2,
   "metadata": {},
   "outputs": [],
   "source": [
    "# nest_asyncio prevents error due to Datalad RuntimeError: Cannot run the event loop while another loop is running\n",
    "import nest_asyncio\n",
    "nest_asyncio.apply()\n",
    "\n",
    "import hipsnp as hps"
   ]
  },
  {
   "cell_type": "code",
   "execution_count": null,
   "metadata": {},
   "outputs": [],
   "source": [
    "source = 'git@gin.g-node.org:/juaml/datalad-example-bgen'\n",
    "rsids = ['RSID_2', 'RSID_3', 'RSID_5', 'RSID_6', 'RSID_7']\n",
    "chromosomes = ['1']\n",
    "qctool = '/home/oportoles/Apps/qctool_v2.0.6-Ubuntu16.04-x86_64/qctool'\n",
    "path_to_save_bgen = '/tmp/hipsnp/example1/'\n",
    "\n",
    "\n",
    "rsid_chromo, bgen_files, datalad_DataSet = hps.rsid_to_bgen(rsids,\n",
    "                                                            outdir=path_to_save_bgen,\n",
    "                                                            datalad_source=source,\n",
    "                                                            qctool=qctool,\n",
    "                                                            data_dir=path_to_save_bgen,\n",
    "                                                            chromosomes=chromosomes,\n",
    "                                                            )\n",
    "\n",
    "gen = hps.from_bgen()\n",
    "\n",
    "g_allele, g_012 = gen.snp2genotype(weights=path_w)"
   ]
  }
 ],
 "metadata": {
  "interpreter": {
   "hash": "976bcc3b65e675a22bd65302b864031b3d9055c0feaf2f49bd1ddcdaa3f4f1e8"
  },
  "kernelspec": {
   "display_name": "Python 3.9.7 64-bit ('hipsnp': conda)",
   "language": "python",
   "name": "python3"
  },
  "language_info": {
   "codemirror_mode": {
    "name": "ipython",
    "version": 3
   },
   "file_extension": ".py",
   "mimetype": "text/x-python",
   "name": "python",
   "nbconvert_exporter": "python",
   "pygments_lexer": "ipython3",
   "version": "3.9.7"
  },
  "orig_nbformat": 4
 },
 "nbformat": 4,
 "nbformat_minor": 2
}
